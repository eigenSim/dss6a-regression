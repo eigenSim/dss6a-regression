{
 "cells": [
  {
   "cell_type": "markdown",
   "metadata": {
    "collapsed": true
   },
   "source": [
    "# New York City Taxi Trip Duration\n",
    "\n",
    "#### Share code and data to improve ride time predictions"
   ]
  },
  {
   "cell_type": "markdown",
   "metadata": {},
   "source": [
    "* 최정혁\n",
    "* 김경윤\n",
    "* 심호섭"
   ]
  },
  {
   "cell_type": "code",
   "execution_count": 3,
   "metadata": {
    "collapsed": true
   },
   "outputs": [],
   "source": [
    "import numpy as np\n",
    "import scipy as sp\n",
    "import pandas as pd\n",
    "import statsmodels.api as sm\n",
    "import statsmodels.formula.api as smf\n",
    "import statsmodels.stats.api as sms\n",
    "import sklearn as sk\n",
    "\n",
    "import matplotlib as mpl\n",
    "import matplotlib.pylab as plt\n",
    "from mpl_toolkits.mplot3d import Axes3D\n",
    "\n",
    "import seaborn as sns\n",
    "sns.set()\n",
    "sns.set_style(\"whitegrid\")\n",
    "sns.set_color_codes()\n",
    "\n",
    "import os\n",
    "from os.path import dirname"
   ]
  },
  {
   "cell_type": "code",
   "execution_count": 3,
   "metadata": {
    "collapsed": true
   },
   "outputs": [],
   "source": [
    "# csv 읽어들일 때 사용할 변수들 정의\n",
    "\n",
    "cols_list = ['pickup_datetime', 'passenger_count', \\\n",
    "             'pickup_latitude', 'pickup_longitude', \\\n",
    "             'dropoff_latitude', 'dropoff_longitude', \\\n",
    "             'trip_duration']\n",
    "cols_list2 = ['pickup_datetime', 'dropoff_datetime', \\\n",
    "             'passenger_count', \\\n",
    "             'pickup_latitude', 'pickup_longitude', \\\n",
    "             'dropoff_latitude', 'dropoff_longitude', \\\n",
    "             'trip_duration']\n",
    "cols_test = ['pickup_datetime', 'passenger_count', \\\n",
    "             'pickup_latitude', 'pickup_longitude', \\\n",
    "             'dropoff_latitude', 'dropoff_longitude']\n",
    "\n",
    "short_cols = ['p_dt', 'pas', 'p_lat', 'p_lng', 'd_lat', 'd_lng', 'dur']\n",
    "short_cols2 = ['p_dt', 'd_dt', 'pas', 'p_lat', 'p_lng', 'd_lat', 'd_lng', 'dur']\n",
    "short_test = ['p_dt', 'pas', 'p_lat', 'p_lng', 'd_lat', 'd_lng']"
   ]
  },
  {
   "cell_type": "code",
   "execution_count": 1,
   "metadata": {},
   "outputs": [],
   "source": [
    "# csv 파일에서 데이터 불러오는 코드\n",
    "\n",
    "dataLoc = '../_data/'\n",
    "trainfile = 'train.csv'\n",
    "testfile = 'test.csv'\n",
    "\n",
    "cols_list = ['pickup_datetime', 'passenger_count', \\\n",
    "             'pickup_latitude', 'pickup_longitude', \\\n",
    "             'dropoff_latitude', 'dropoff_longitude', \\\n",
    "             'trip_duration']\n"
   ]
  },
  {
   "cell_type": "code",
   "execution_count": 4,
   "metadata": {},
   "outputs": [
    {
     "data": {
      "text/html": [
       "<div>\n",
       "<style>\n",
       "    .dataframe thead tr:only-child th {\n",
       "        text-align: right;\n",
       "    }\n",
       "\n",
       "    .dataframe thead th {\n",
       "        text-align: left;\n",
       "    }\n",
       "\n",
       "    .dataframe tbody tr th {\n",
       "        vertical-align: top;\n",
       "    }\n",
       "</style>\n",
       "<table border=\"1\" class=\"dataframe\">\n",
       "  <thead>\n",
       "    <tr style=\"text-align: right;\">\n",
       "      <th></th>\n",
       "      <th>p_dt</th>\n",
       "      <th>pas</th>\n",
       "      <th>p_lat</th>\n",
       "      <th>p_lng</th>\n",
       "      <th>d_lat</th>\n",
       "      <th>d_lng</th>\n",
       "      <th>dur</th>\n",
       "    </tr>\n",
       "  </thead>\n",
       "  <tbody>\n",
       "    <tr>\n",
       "      <th>0</th>\n",
       "      <td>4/30/16 23:59</td>\n",
       "      <td>1</td>\n",
       "      <td>-73.987793</td>\n",
       "      <td>40.724792</td>\n",
       "      <td>-73.975616</td>\n",
       "      <td>40.656445</td>\n",
       "      <td>1454</td>\n",
       "    </tr>\n",
       "    <tr>\n",
       "      <th>1</th>\n",
       "      <td>4/30/16 23:59</td>\n",
       "      <td>1</td>\n",
       "      <td>-73.957596</td>\n",
       "      <td>40.717770</td>\n",
       "      <td>-73.951424</td>\n",
       "      <td>40.775230</td>\n",
       "      <td>1409</td>\n",
       "    </tr>\n",
       "    <tr>\n",
       "      <th>2</th>\n",
       "      <td>4/30/16 23:59</td>\n",
       "      <td>2</td>\n",
       "      <td>-74.000954</td>\n",
       "      <td>40.742031</td>\n",
       "      <td>-73.947708</td>\n",
       "      <td>40.782200</td>\n",
       "      <td>1081</td>\n",
       "    </tr>\n",
       "    <tr>\n",
       "      <th>3</th>\n",
       "      <td>4/30/16 23:58</td>\n",
       "      <td>1</td>\n",
       "      <td>-73.985733</td>\n",
       "      <td>40.738258</td>\n",
       "      <td>-73.993179</td>\n",
       "      <td>40.754890</td>\n",
       "      <td>800</td>\n",
       "    </tr>\n",
       "    <tr>\n",
       "      <th>4</th>\n",
       "      <td>4/30/16 23:58</td>\n",
       "      <td>1</td>\n",
       "      <td>-74.006615</td>\n",
       "      <td>40.740650</td>\n",
       "      <td>-73.985619</td>\n",
       "      <td>40.723362</td>\n",
       "      <td>1151</td>\n",
       "    </tr>\n",
       "  </tbody>\n",
       "</table>\n",
       "</div>"
      ],
      "text/plain": [
       "            p_dt  pas      p_lat      p_lng      d_lat      d_lng   dur\n",
       "0  4/30/16 23:59    1 -73.987793  40.724792 -73.975616  40.656445  1454\n",
       "1  4/30/16 23:59    1 -73.957596  40.717770 -73.951424  40.775230  1409\n",
       "2  4/30/16 23:59    2 -74.000954  40.742031 -73.947708  40.782200  1081\n",
       "3  4/30/16 23:58    1 -73.985733  40.738258 -73.993179  40.754890   800\n",
       "4  4/30/16 23:58    1 -74.006615  40.740650 -73.985619  40.723362  1151"
      ]
     },
     "execution_count": 4,
     "metadata": {},
     "output_type": "execute_result"
    }
   ],
   "source": [
    "# train.csv\n",
    "taxi_df = pd.read_csv(dataLoc + trainfile, usecols=cols_list)\n",
    "taxi_df.columns = short_cols\n",
    "taxi_df.head()"
   ]
  },
  {
   "cell_type": "code",
   "execution_count": 6,
   "metadata": {},
   "outputs": [
    {
     "data": {
      "text/html": [
       "<div>\n",
       "<style>\n",
       "    .dataframe thead tr:only-child th {\n",
       "        text-align: right;\n",
       "    }\n",
       "\n",
       "    .dataframe thead th {\n",
       "        text-align: left;\n",
       "    }\n",
       "\n",
       "    .dataframe tbody tr th {\n",
       "        vertical-align: top;\n",
       "    }\n",
       "</style>\n",
       "<table border=\"1\" class=\"dataframe\">\n",
       "  <thead>\n",
       "    <tr style=\"text-align: right;\">\n",
       "      <th></th>\n",
       "      <th>p_dt</th>\n",
       "      <th>pas</th>\n",
       "      <th>p_lat</th>\n",
       "      <th>p_lng</th>\n",
       "      <th>d_lat</th>\n",
       "      <th>d_lng</th>\n",
       "    </tr>\n",
       "  </thead>\n",
       "  <tbody>\n",
       "    <tr>\n",
       "      <th>0</th>\n",
       "      <td>6/30/16 23:59</td>\n",
       "      <td>5</td>\n",
       "      <td>-73.998291</td>\n",
       "      <td>40.722618</td>\n",
       "      <td>-73.971779</td>\n",
       "      <td>40.762470</td>\n",
       "    </tr>\n",
       "    <tr>\n",
       "      <th>1</th>\n",
       "      <td>6/30/16 23:59</td>\n",
       "      <td>2</td>\n",
       "      <td>-73.955109</td>\n",
       "      <td>40.689564</td>\n",
       "      <td>-73.978203</td>\n",
       "      <td>40.685802</td>\n",
       "    </tr>\n",
       "    <tr>\n",
       "      <th>2</th>\n",
       "      <td>6/30/16 23:59</td>\n",
       "      <td>1</td>\n",
       "      <td>-73.978416</td>\n",
       "      <td>40.791576</td>\n",
       "      <td>-73.973160</td>\n",
       "      <td>40.675968</td>\n",
       "    </tr>\n",
       "    <tr>\n",
       "      <th>3</th>\n",
       "      <td>6/30/16 23:59</td>\n",
       "      <td>2</td>\n",
       "      <td>-73.873093</td>\n",
       "      <td>40.774097</td>\n",
       "      <td>-73.926704</td>\n",
       "      <td>40.856739</td>\n",
       "    </tr>\n",
       "    <tr>\n",
       "      <th>4</th>\n",
       "      <td>6/30/16 23:58</td>\n",
       "      <td>1</td>\n",
       "      <td>-73.979416</td>\n",
       "      <td>40.755211</td>\n",
       "      <td>-74.003548</td>\n",
       "      <td>40.738224</td>\n",
       "    </tr>\n",
       "  </tbody>\n",
       "</table>\n",
       "</div>"
      ],
      "text/plain": [
       "            p_dt  pas      p_lat      p_lng      d_lat      d_lng\n",
       "0  6/30/16 23:59    5 -73.998291  40.722618 -73.971779  40.762470\n",
       "1  6/30/16 23:59    2 -73.955109  40.689564 -73.978203  40.685802\n",
       "2  6/30/16 23:59    1 -73.978416  40.791576 -73.973160  40.675968\n",
       "3  6/30/16 23:59    2 -73.873093  40.774097 -73.926704  40.856739\n",
       "4  6/30/16 23:58    1 -73.979416  40.755211 -74.003548  40.738224"
      ]
     },
     "execution_count": 6,
     "metadata": {},
     "output_type": "execute_result"
    }
   ],
   "source": [
    "# test.csv\n",
    "test_df = pd.read_csv(dataLoc + testfile, usecols=cols_test)\n",
    "test_df.columns = short_test\n",
    "test_df.head()"
   ]
  }
 ],
 "metadata": {
  "kernelspec": {
   "display_name": "Python 3",
   "language": "python",
   "name": "python3"
  },
  "language_info": {
   "codemirror_mode": {
    "name": "ipython",
    "version": 3
   },
   "file_extension": ".py",
   "mimetype": "text/x-python",
   "name": "python",
   "nbconvert_exporter": "python",
   "pygments_lexer": "ipython3",
   "version": "3.6.1"
  }
 },
 "nbformat": 4,
 "nbformat_minor": 2
}
