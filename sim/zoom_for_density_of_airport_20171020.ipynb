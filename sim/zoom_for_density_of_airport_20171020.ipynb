{
 "cells": [
  {
   "cell_type": "code",
   "execution_count": 1,
   "metadata": {},
   "outputs": [
    {
     "name": "stderr",
     "output_type": "stream",
     "text": [
      "/home/eigensim/anaconda3/lib/python3.6/site-packages/statsmodels/compat/pandas.py:56: FutureWarning: The pandas.core.datetools module is deprecated and will be removed in a future version. Please use the pandas.tseries module instead.\n",
      "  from pandas.core import datetools\n"
     ]
    }
   ],
   "source": [
    "import numpy as np\n",
    "import scipy as sp\n",
    "import pandas as pd\n",
    "import statsmodels.api as sm\n",
    "import statsmodels.formula.api as smf\n",
    "import statsmodels.stats.api as sms\n",
    "import sklearn as sk\n",
    "\n",
    "import matplotlib as mpl\n",
    "import matplotlib.pylab as plt\n",
    "from mpl_toolkits.mplot3d import Axes3D\n",
    "\n",
    "import seaborn as sns\n",
    "sns.set()\n",
    "sns.set_style(\"whitegrid\")\n",
    "sns.set_color_codes()"
   ]
  },
  {
   "cell_type": "code",
   "execution_count": 2,
   "metadata": {
    "collapsed": true
   },
   "outputs": [],
   "source": [
    "# 경로 변수 (고정)\n",
    "\n",
    "dataLoc = '../_data/'\n",
    "trainfile = 'train_03_997.csv'\n",
    "old_trainfile = 'train.csv'\n",
    "testfile = 'test_clean.csv'\n",
    "old_testfile = 'test.csv'\n",
    "train_171016 = '171016_dow_hr_pas_L2_dur_only.csv'"
   ]
  },
  {
   "cell_type": "code",
   "execution_count": 3,
   "metadata": {},
   "outputs": [
    {
     "data": {
      "text/html": [
       "<div>\n",
       "<style>\n",
       "    .dataframe thead tr:only-child th {\n",
       "        text-align: right;\n",
       "    }\n",
       "\n",
       "    .dataframe thead th {\n",
       "        text-align: left;\n",
       "    }\n",
       "\n",
       "    .dataframe tbody tr th {\n",
       "        vertical-align: top;\n",
       "    }\n",
       "</style>\n",
       "<table border=\"1\" class=\"dataframe\">\n",
       "  <thead>\n",
       "    <tr style=\"text-align: right;\">\n",
       "      <th></th>\n",
       "      <th>p_dt</th>\n",
       "      <th>pas</th>\n",
       "      <th>p_lng</th>\n",
       "      <th>p_lat</th>\n",
       "      <th>d_lng</th>\n",
       "      <th>d_lat</th>\n",
       "      <th>dur</th>\n",
       "    </tr>\n",
       "  </thead>\n",
       "  <tbody>\n",
       "    <tr>\n",
       "      <th>0</th>\n",
       "      <td>2016-04-30 23:59:00</td>\n",
       "      <td>1</td>\n",
       "      <td>-73.987793</td>\n",
       "      <td>40.724792</td>\n",
       "      <td>-73.975616</td>\n",
       "      <td>40.656445</td>\n",
       "      <td>1454</td>\n",
       "    </tr>\n",
       "    <tr>\n",
       "      <th>1</th>\n",
       "      <td>2016-04-30 23:59:00</td>\n",
       "      <td>1</td>\n",
       "      <td>-73.957596</td>\n",
       "      <td>40.717770</td>\n",
       "      <td>-73.951424</td>\n",
       "      <td>40.775230</td>\n",
       "      <td>1409</td>\n",
       "    </tr>\n",
       "    <tr>\n",
       "      <th>2</th>\n",
       "      <td>2016-04-30 23:59:00</td>\n",
       "      <td>2</td>\n",
       "      <td>-74.000954</td>\n",
       "      <td>40.742031</td>\n",
       "      <td>-73.947708</td>\n",
       "      <td>40.782200</td>\n",
       "      <td>1081</td>\n",
       "    </tr>\n",
       "    <tr>\n",
       "      <th>3</th>\n",
       "      <td>2016-04-30 23:58:00</td>\n",
       "      <td>1</td>\n",
       "      <td>-73.985733</td>\n",
       "      <td>40.738258</td>\n",
       "      <td>-73.993179</td>\n",
       "      <td>40.754890</td>\n",
       "      <td>800</td>\n",
       "    </tr>\n",
       "    <tr>\n",
       "      <th>4</th>\n",
       "      <td>2016-04-30 23:58:00</td>\n",
       "      <td>1</td>\n",
       "      <td>-74.006615</td>\n",
       "      <td>40.740650</td>\n",
       "      <td>-73.985619</td>\n",
       "      <td>40.723362</td>\n",
       "      <td>1151</td>\n",
       "    </tr>\n",
       "  </tbody>\n",
       "</table>\n",
       "</div>"
      ],
      "text/plain": [
       "                 p_dt  pas      p_lng      p_lat      d_lng      d_lat   dur\n",
       "0 2016-04-30 23:59:00    1 -73.987793  40.724792 -73.975616  40.656445  1454\n",
       "1 2016-04-30 23:59:00    1 -73.957596  40.717770 -73.951424  40.775230  1409\n",
       "2 2016-04-30 23:59:00    2 -74.000954  40.742031 -73.947708  40.782200  1081\n",
       "3 2016-04-30 23:58:00    1 -73.985733  40.738258 -73.993179  40.754890   800\n",
       "4 2016-04-30 23:58:00    1 -74.006615  40.740650 -73.985619  40.723362  1151"
      ]
     },
     "execution_count": 3,
     "metadata": {},
     "output_type": "execute_result"
    }
   ],
   "source": [
    "# train_03_997.csv\n",
    "taxi_df = pd.read_csv(dataLoc + trainfile)\n",
    "taxi_df['p_dt'] = pd.to_datetime(taxi_df['p_dt'])\n",
    "taxi_df.head()"
   ]
  },
  {
   "cell_type": "code",
   "execution_count": 4,
   "metadata": {
    "collapsed": true
   },
   "outputs": [
    {
     "data": {
      "text/html": [
       "<div>\n",
       "<style>\n",
       "    .dataframe thead tr:only-child th {\n",
       "        text-align: right;\n",
       "    }\n",
       "\n",
       "    .dataframe thead th {\n",
       "        text-align: left;\n",
       "    }\n",
       "\n",
       "    .dataframe tbody tr th {\n",
       "        vertical-align: top;\n",
       "    }\n",
       "</style>\n",
       "<table border=\"1\" class=\"dataframe\">\n",
       "  <thead>\n",
       "    <tr style=\"text-align: right;\">\n",
       "      <th></th>\n",
       "      <th>dow</th>\n",
       "      <th>hr</th>\n",
       "      <th>pas</th>\n",
       "      <th>L2</th>\n",
       "      <th>dur</th>\n",
       "    </tr>\n",
       "  </thead>\n",
       "  <tbody>\n",
       "    <tr>\n",
       "      <th>0</th>\n",
       "      <td>Sa</td>\n",
       "      <td>23</td>\n",
       "      <td>1</td>\n",
       "      <td>0.069424</td>\n",
       "      <td>1454</td>\n",
       "    </tr>\n",
       "    <tr>\n",
       "      <th>1</th>\n",
       "      <td>Sa</td>\n",
       "      <td>23</td>\n",
       "      <td>1</td>\n",
       "      <td>0.057791</td>\n",
       "      <td>1409</td>\n",
       "    </tr>\n",
       "    <tr>\n",
       "      <th>2</th>\n",
       "      <td>Sa</td>\n",
       "      <td>23</td>\n",
       "      <td>2</td>\n",
       "      <td>0.066698</td>\n",
       "      <td>1081</td>\n",
       "    </tr>\n",
       "    <tr>\n",
       "      <th>3</th>\n",
       "      <td>Sa</td>\n",
       "      <td>23</td>\n",
       "      <td>1</td>\n",
       "      <td>0.018223</td>\n",
       "      <td>800</td>\n",
       "    </tr>\n",
       "    <tr>\n",
       "      <th>4</th>\n",
       "      <td>Sa</td>\n",
       "      <td>23</td>\n",
       "      <td>1</td>\n",
       "      <td>0.027198</td>\n",
       "      <td>1151</td>\n",
       "    </tr>\n",
       "  </tbody>\n",
       "</table>\n",
       "</div>"
      ],
      "text/plain": [
       "  dow  hr  pas        L2   dur\n",
       "0  Sa  23    1  0.069424  1454\n",
       "1  Sa  23    1  0.057791  1409\n",
       "2  Sa  23    2  0.066698  1081\n",
       "3  Sa  23    1  0.018223   800\n",
       "4  Sa  23    1  0.027198  1151"
      ]
     },
     "execution_count": 4,
     "metadata": {},
     "output_type": "execute_result"
    }
   ],
   "source": [
    "# 171016_dow_hr_pas_L2_dur_only.csv\n",
    "main_df = pd.read_csv(dataLoc + train_171016)\n",
    "main_df.head()"
   ]
  },
  {
   "cell_type": "code",
   "execution_count": 5,
   "metadata": {
    "collapsed": true
   },
   "outputs": [
    {
     "data": {
      "text/html": [
       "<div>\n",
       "<style>\n",
       "    .dataframe thead tr:only-child th {\n",
       "        text-align: right;\n",
       "    }\n",
       "\n",
       "    .dataframe thead th {\n",
       "        text-align: left;\n",
       "    }\n",
       "\n",
       "    .dataframe tbody tr th {\n",
       "        vertical-align: top;\n",
       "    }\n",
       "</style>\n",
       "<table border=\"1\" class=\"dataframe\">\n",
       "  <thead>\n",
       "    <tr style=\"text-align: right;\">\n",
       "      <th></th>\n",
       "      <th>p_dt</th>\n",
       "      <th>pas</th>\n",
       "      <th>p_lng</th>\n",
       "      <th>p_lat</th>\n",
       "      <th>d_lng</th>\n",
       "      <th>d_lat</th>\n",
       "      <th>dur</th>\n",
       "    </tr>\n",
       "  </thead>\n",
       "  <tbody>\n",
       "    <tr>\n",
       "      <th>0</th>\n",
       "      <td>2016-04-30 23:59:00</td>\n",
       "      <td>1</td>\n",
       "      <td>-73.987793</td>\n",
       "      <td>40.724792</td>\n",
       "      <td>-73.975616</td>\n",
       "      <td>40.656445</td>\n",
       "      <td>1454</td>\n",
       "    </tr>\n",
       "    <tr>\n",
       "      <th>1</th>\n",
       "      <td>2016-04-30 23:59:00</td>\n",
       "      <td>1</td>\n",
       "      <td>-73.957596</td>\n",
       "      <td>40.717770</td>\n",
       "      <td>-73.951424</td>\n",
       "      <td>40.775230</td>\n",
       "      <td>1409</td>\n",
       "    </tr>\n",
       "    <tr>\n",
       "      <th>2</th>\n",
       "      <td>2016-04-30 23:59:00</td>\n",
       "      <td>2</td>\n",
       "      <td>-74.000954</td>\n",
       "      <td>40.742031</td>\n",
       "      <td>-73.947708</td>\n",
       "      <td>40.782200</td>\n",
       "      <td>1081</td>\n",
       "    </tr>\n",
       "    <tr>\n",
       "      <th>3</th>\n",
       "      <td>2016-04-30 23:58:00</td>\n",
       "      <td>1</td>\n",
       "      <td>-73.985733</td>\n",
       "      <td>40.738258</td>\n",
       "      <td>-73.993179</td>\n",
       "      <td>40.754890</td>\n",
       "      <td>800</td>\n",
       "    </tr>\n",
       "    <tr>\n",
       "      <th>4</th>\n",
       "      <td>2016-04-30 23:58:00</td>\n",
       "      <td>1</td>\n",
       "      <td>-74.006615</td>\n",
       "      <td>40.740650</td>\n",
       "      <td>-73.985619</td>\n",
       "      <td>40.723362</td>\n",
       "      <td>1151</td>\n",
       "    </tr>\n",
       "  </tbody>\n",
       "</table>\n",
       "</div>"
      ],
      "text/plain": [
       "                 p_dt  pas      p_lng      p_lat      d_lng      d_lat   dur\n",
       "0 2016-04-30 23:59:00    1 -73.987793  40.724792 -73.975616  40.656445  1454\n",
       "1 2016-04-30 23:59:00    1 -73.957596  40.717770 -73.951424  40.775230  1409\n",
       "2 2016-04-30 23:59:00    2 -74.000954  40.742031 -73.947708  40.782200  1081\n",
       "3 2016-04-30 23:58:00    1 -73.985733  40.738258 -73.993179  40.754890   800\n",
       "4 2016-04-30 23:58:00    1 -74.006615  40.740650 -73.985619  40.723362  1151"
      ]
     },
     "execution_count": 5,
     "metadata": {},
     "output_type": "execute_result"
    }
   ],
   "source": [
    "copy_df = taxi_df.copy()  # 분석 필요한 df명 넣기\n",
    "copy_df.head()"
   ]
  },
  {
   "cell_type": "code",
   "execution_count": 6,
   "metadata": {
    "collapsed": true
   },
   "outputs": [],
   "source": [
    "copy_df.insert(loc=1, column='hr', value=copy_df['p_dt'].dt.hour)"
   ]
  },
  {
   "cell_type": "code",
   "execution_count": 7,
   "metadata": {
    "collapsed": true
   },
   "outputs": [],
   "source": [
    "dow_conv = {0 : 'M', 1 : 'T', 2 : 'W', 3 : 'R', 4 : 'F', 5 : 'Sa', 6 : 'Su'}\n",
    "\n",
    "copy_df.insert(loc=1, column='dow', value=copy_df['p_dt'].dt.dayofweek)"
   ]
  },
  {
   "cell_type": "code",
   "execution_count": 8,
   "metadata": {
    "collapsed": true
   },
   "outputs": [],
   "source": [
    "copy_df = copy_df.replace({'dow' : dow_conv})"
   ]
  },
  {
   "cell_type": "code",
   "execution_count": 9,
   "metadata": {
    "collapsed": true
   },
   "outputs": [
    {
     "data": {
      "text/html": [
       "<div>\n",
       "<style>\n",
       "    .dataframe thead tr:only-child th {\n",
       "        text-align: right;\n",
       "    }\n",
       "\n",
       "    .dataframe thead th {\n",
       "        text-align: left;\n",
       "    }\n",
       "\n",
       "    .dataframe tbody tr th {\n",
       "        vertical-align: top;\n",
       "    }\n",
       "</style>\n",
       "<table border=\"1\" class=\"dataframe\">\n",
       "  <thead>\n",
       "    <tr style=\"text-align: right;\">\n",
       "      <th></th>\n",
       "      <th>dow</th>\n",
       "      <th>hr</th>\n",
       "      <th>pas</th>\n",
       "      <th>p_lng</th>\n",
       "      <th>p_lat</th>\n",
       "      <th>d_lng</th>\n",
       "      <th>d_lat</th>\n",
       "      <th>dur</th>\n",
       "    </tr>\n",
       "  </thead>\n",
       "  <tbody>\n",
       "    <tr>\n",
       "      <th>0</th>\n",
       "      <td>Sa</td>\n",
       "      <td>23</td>\n",
       "      <td>1</td>\n",
       "      <td>-73.987793</td>\n",
       "      <td>40.724792</td>\n",
       "      <td>-73.975616</td>\n",
       "      <td>40.656445</td>\n",
       "      <td>1454</td>\n",
       "    </tr>\n",
       "    <tr>\n",
       "      <th>1</th>\n",
       "      <td>Sa</td>\n",
       "      <td>23</td>\n",
       "      <td>1</td>\n",
       "      <td>-73.957596</td>\n",
       "      <td>40.717770</td>\n",
       "      <td>-73.951424</td>\n",
       "      <td>40.775230</td>\n",
       "      <td>1409</td>\n",
       "    </tr>\n",
       "    <tr>\n",
       "      <th>2</th>\n",
       "      <td>Sa</td>\n",
       "      <td>23</td>\n",
       "      <td>2</td>\n",
       "      <td>-74.000954</td>\n",
       "      <td>40.742031</td>\n",
       "      <td>-73.947708</td>\n",
       "      <td>40.782200</td>\n",
       "      <td>1081</td>\n",
       "    </tr>\n",
       "    <tr>\n",
       "      <th>3</th>\n",
       "      <td>Sa</td>\n",
       "      <td>23</td>\n",
       "      <td>1</td>\n",
       "      <td>-73.985733</td>\n",
       "      <td>40.738258</td>\n",
       "      <td>-73.993179</td>\n",
       "      <td>40.754890</td>\n",
       "      <td>800</td>\n",
       "    </tr>\n",
       "    <tr>\n",
       "      <th>4</th>\n",
       "      <td>Sa</td>\n",
       "      <td>23</td>\n",
       "      <td>1</td>\n",
       "      <td>-74.006615</td>\n",
       "      <td>40.740650</td>\n",
       "      <td>-73.985619</td>\n",
       "      <td>40.723362</td>\n",
       "      <td>1151</td>\n",
       "    </tr>\n",
       "  </tbody>\n",
       "</table>\n",
       "</div>"
      ],
      "text/plain": [
       "  dow  hr  pas      p_lng      p_lat      d_lng      d_lat   dur\n",
       "0  Sa  23    1 -73.987793  40.724792 -73.975616  40.656445  1454\n",
       "1  Sa  23    1 -73.957596  40.717770 -73.951424  40.775230  1409\n",
       "2  Sa  23    2 -74.000954  40.742031 -73.947708  40.782200  1081\n",
       "3  Sa  23    1 -73.985733  40.738258 -73.993179  40.754890   800\n",
       "4  Sa  23    1 -74.006615  40.740650 -73.985619  40.723362  1151"
      ]
     },
     "execution_count": 9,
     "metadata": {},
     "output_type": "execute_result"
    }
   ],
   "source": [
    "# 한번만 실행 가능\n",
    "del copy_df['p_dt']\n",
    "copy_df.head()"
   ]
  },
  {
   "cell_type": "code",
   "execution_count": 10,
   "metadata": {
    "collapsed": true
   },
   "outputs": [],
   "source": [
    "def dist(plng, plat, dlng, dlat):\n",
    "    return ((dlng-plng)**2 + (dlat-plat)**2) ** 0.5"
   ]
  },
  {
   "cell_type": "code",
   "execution_count": 11,
   "metadata": {},
   "outputs": [
    {
     "data": {
      "text/html": [
       "<div>\n",
       "<style>\n",
       "    .dataframe thead tr:only-child th {\n",
       "        text-align: right;\n",
       "    }\n",
       "\n",
       "    .dataframe thead th {\n",
       "        text-align: left;\n",
       "    }\n",
       "\n",
       "    .dataframe tbody tr th {\n",
       "        vertical-align: top;\n",
       "    }\n",
       "</style>\n",
       "<table border=\"1\" class=\"dataframe\">\n",
       "  <thead>\n",
       "    <tr style=\"text-align: right;\">\n",
       "      <th></th>\n",
       "      <th>dow</th>\n",
       "      <th>hr</th>\n",
       "      <th>pas</th>\n",
       "      <th>p_lng</th>\n",
       "      <th>p_lat</th>\n",
       "      <th>d_lng</th>\n",
       "      <th>d_lat</th>\n",
       "      <th>L2</th>\n",
       "      <th>dur</th>\n",
       "    </tr>\n",
       "  </thead>\n",
       "  <tbody>\n",
       "    <tr>\n",
       "      <th>0</th>\n",
       "      <td>Sa</td>\n",
       "      <td>23</td>\n",
       "      <td>1</td>\n",
       "      <td>-73.987793</td>\n",
       "      <td>40.724792</td>\n",
       "      <td>-73.975616</td>\n",
       "      <td>40.656445</td>\n",
       "      <td>0.069424</td>\n",
       "      <td>1454</td>\n",
       "    </tr>\n",
       "    <tr>\n",
       "      <th>1</th>\n",
       "      <td>Sa</td>\n",
       "      <td>23</td>\n",
       "      <td>1</td>\n",
       "      <td>-73.957596</td>\n",
       "      <td>40.717770</td>\n",
       "      <td>-73.951424</td>\n",
       "      <td>40.775230</td>\n",
       "      <td>0.057791</td>\n",
       "      <td>1409</td>\n",
       "    </tr>\n",
       "    <tr>\n",
       "      <th>2</th>\n",
       "      <td>Sa</td>\n",
       "      <td>23</td>\n",
       "      <td>2</td>\n",
       "      <td>-74.000954</td>\n",
       "      <td>40.742031</td>\n",
       "      <td>-73.947708</td>\n",
       "      <td>40.782200</td>\n",
       "      <td>0.066698</td>\n",
       "      <td>1081</td>\n",
       "    </tr>\n",
       "    <tr>\n",
       "      <th>3</th>\n",
       "      <td>Sa</td>\n",
       "      <td>23</td>\n",
       "      <td>1</td>\n",
       "      <td>-73.985733</td>\n",
       "      <td>40.738258</td>\n",
       "      <td>-73.993179</td>\n",
       "      <td>40.754890</td>\n",
       "      <td>0.018223</td>\n",
       "      <td>800</td>\n",
       "    </tr>\n",
       "    <tr>\n",
       "      <th>4</th>\n",
       "      <td>Sa</td>\n",
       "      <td>23</td>\n",
       "      <td>1</td>\n",
       "      <td>-74.006615</td>\n",
       "      <td>40.740650</td>\n",
       "      <td>-73.985619</td>\n",
       "      <td>40.723362</td>\n",
       "      <td>0.027198</td>\n",
       "      <td>1151</td>\n",
       "    </tr>\n",
       "  </tbody>\n",
       "</table>\n",
       "</div>"
      ],
      "text/plain": [
       "  dow  hr  pas      p_lng      p_lat      d_lng      d_lat        L2   dur\n",
       "0  Sa  23    1 -73.987793  40.724792 -73.975616  40.656445  0.069424  1454\n",
       "1  Sa  23    1 -73.957596  40.717770 -73.951424  40.775230  0.057791  1409\n",
       "2  Sa  23    2 -74.000954  40.742031 -73.947708  40.782200  0.066698  1081\n",
       "3  Sa  23    1 -73.985733  40.738258 -73.993179  40.754890  0.018223   800\n",
       "4  Sa  23    1 -74.006615  40.740650 -73.985619  40.723362  0.027198  1151"
      ]
     },
     "execution_count": 11,
     "metadata": {},
     "output_type": "execute_result"
    }
   ],
   "source": [
    "copy_df.insert(loc=7, column='L2', value=np.vectorize(dist)(\\\n",
    "                copy_df['p_lng'], copy_df['p_lat'],\\\n",
    "                copy_df['d_lng'], copy_df['d_lat']))\n",
    "\n",
    "copy_df.head()"
   ]
  },
  {
   "cell_type": "code",
   "execution_count": 12,
   "metadata": {
    "collapsed": true
   },
   "outputs": [],
   "source": [
    "# 4개 열 전부 삭제\n",
    "todel = ['p_lng', 'p_lat', 'd_lng', 'd_lat']\n",
    "\n",
    "for thing in todel:\n",
    "    del copy_df[thing]"
   ]
  },
  {
   "cell_type": "code",
   "execution_count": 13,
   "metadata": {},
   "outputs": [
    {
     "data": {
      "text/html": [
       "<div>\n",
       "<style>\n",
       "    .dataframe thead tr:only-child th {\n",
       "        text-align: right;\n",
       "    }\n",
       "\n",
       "    .dataframe thead th {\n",
       "        text-align: left;\n",
       "    }\n",
       "\n",
       "    .dataframe tbody tr th {\n",
       "        vertical-align: top;\n",
       "    }\n",
       "</style>\n",
       "<table border=\"1\" class=\"dataframe\">\n",
       "  <thead>\n",
       "    <tr style=\"text-align: right;\">\n",
       "      <th></th>\n",
       "      <th>dow</th>\n",
       "      <th>hr</th>\n",
       "      <th>pas</th>\n",
       "      <th>L2</th>\n",
       "      <th>dur</th>\n",
       "    </tr>\n",
       "  </thead>\n",
       "  <tbody>\n",
       "    <tr>\n",
       "      <th>0</th>\n",
       "      <td>Sa</td>\n",
       "      <td>23</td>\n",
       "      <td>1</td>\n",
       "      <td>0.069424</td>\n",
       "      <td>1454</td>\n",
       "    </tr>\n",
       "    <tr>\n",
       "      <th>1</th>\n",
       "      <td>Sa</td>\n",
       "      <td>23</td>\n",
       "      <td>1</td>\n",
       "      <td>0.057791</td>\n",
       "      <td>1409</td>\n",
       "    </tr>\n",
       "    <tr>\n",
       "      <th>2</th>\n",
       "      <td>Sa</td>\n",
       "      <td>23</td>\n",
       "      <td>2</td>\n",
       "      <td>0.066698</td>\n",
       "      <td>1081</td>\n",
       "    </tr>\n",
       "    <tr>\n",
       "      <th>3</th>\n",
       "      <td>Sa</td>\n",
       "      <td>23</td>\n",
       "      <td>1</td>\n",
       "      <td>0.018223</td>\n",
       "      <td>800</td>\n",
       "    </tr>\n",
       "    <tr>\n",
       "      <th>4</th>\n",
       "      <td>Sa</td>\n",
       "      <td>23</td>\n",
       "      <td>1</td>\n",
       "      <td>0.027198</td>\n",
       "      <td>1151</td>\n",
       "    </tr>\n",
       "  </tbody>\n",
       "</table>\n",
       "</div>"
      ],
      "text/plain": [
       "  dow  hr  pas        L2   dur\n",
       "0  Sa  23    1  0.069424  1454\n",
       "1  Sa  23    1  0.057791  1409\n",
       "2  Sa  23    2  0.066698  1081\n",
       "3  Sa  23    1  0.018223   800\n",
       "4  Sa  23    1  0.027198  1151"
      ]
     },
     "execution_count": 13,
     "metadata": {},
     "output_type": "execute_result"
    }
   ],
   "source": [
    "copy_df.head()"
   ]
  },
  {
   "cell_type": "code",
   "execution_count": null,
   "metadata": {
    "collapsed": true
   },
   "outputs": [],
   "source": [
    "#copy2_df.to_csv(\"../_data/171016_dow_hr_pas_L2_dur_only.csv\", index=False)"
   ]
  },
  {
   "cell_type": "code",
   "execution_count": null,
   "metadata": {
    "collapsed": true
   },
   "outputs": [],
   "source": []
  },
  {
   "cell_type": "code",
   "execution_count": null,
   "metadata": {
    "collapsed": true
   },
   "outputs": [],
   "source": [
    "# zoom in on JFK Airport\n",
    "\n",
    "imageSizeJFK = (600,750) #세로, 가로\n",
    "\n",
    "latRangeJFK = [-15,-10] #세로\n",
    "longRangeJFK = [14,18] # 가로\n",
    "\n",
    "indToKeep  = np.logical_and(allLat > latRangeJFK[0], allLat < latRangeJFK[1])\n",
    "indToKeep  = np.logical_and(indToKeep, np.logical_and(allLong > longRangeJFK[0], allLong < longRangeJFK[1]))\n",
    "allLatJFK  = allLat[indToKeep]\n",
    "allLongJFK = allLong[indToKeep]\n",
    "\n",
    "allLatIndsJFK  = (imageSizeJFK[0]-1) - (imageSizeJFK[0] * (allLatJFK  - latRangeJFK[0])\n",
    "                                                        / (latRangeJFK[1] - latRangeJFK[0])).astype(int)\n",
    "allLongIndsJFK=                       (imageSizeJFK[1] * (allLongJFK - longRangeJFK[0])\n",
    "                                                        / (longRangeJFK[1] - longRangeJFK[0])).astype(int)\n",
    "\n",
    "locationDensityImageJFK = np.zeros(imageSizeJFK)\n",
    "for latInd, longInd in zip(allLatIndsJFK,allLongIndsJFK):\n",
    "    locationDensityImageJFK[latInd,longInd] += 1\n",
    "\n",
    "fig, ax = plt.subplots(nrows=1,ncols=1,figsize=(12,18))\n",
    "ax.imshow(np.log(locationDensityImageJFK+1),cmap='hot')\n",
    "ax.set_axis_off()\n"
   ]
  },
  {
   "cell_type": "code",
   "execution_count": null,
   "metadata": {
    "collapsed": true
   },
   "outputs": [],
   "source": [
    "# zoom in on LaGuardia Airport\n",
    "\n",
    "imageSizeLGA = (300,600) #세로, 가로\n",
    "\n",
    "latRangeLGA = [1,3] #세로\n",
    "longRangeLGA = [7,11] # 가로\n",
    "\n",
    "indToKeep  = np.logical_and(allLat > latRangeLGA[0], allLat < latRangeLGA[1])\n",
    "indToKeep  = np.logical_and(indToKeep, np.logical_and(allLong > longRangeLGA[0], allLong < longRangeLGA[1]))\n",
    "allLatLGA  = allLat[indToKeep]\n",
    "allLongLGA = allLong[indToKeep]\n",
    "\n",
    "allLatIndsLGA  = (imageSizeLGA[0]-1) - (imageSizeLGA[0] * (allLatLGA  - latRangeLGA[0])\n",
    "                                                        / (latRangeLGA[1] - latRangeLGA[0])).astype(int)\n",
    "allLongIndsLGA=                       (imageSizeLGA[1] * (allLongLGA - longRangeLGA[0])\n",
    "                                                        / (longRangeLGA[1] - longRangeLGA[0])).astype(int)\n"
   ]
  },
  {
   "cell_type": "code",
   "execution_count": null,
   "metadata": {
    "collapsed": true
   },
   "outputs": [],
   "source": [
    "#JFK\n",
    "\n",
    "# 1. whole\n",
    "longitude = -73.79139709 ~ -73.77679442 #가로. 왼쪽 ~ 오른쪽\n",
    "latitude = 40. 649094 ~ 40.4064365#세로. 위 ~ 아래\n",
    "\n",
    "# 2. partial\n",
    "#왼쪽 위 부터 시계 방향으로\n",
    "\n",
    "# 2-1. \n",
    "longitude = -73.79139709 ~ -73.78795624 #가로. 왼쪽 ~ 오른쪽\n",
    "latitude = 40.647731 ~ 40.646172 #세로. 위 ~ 아래\n",
    "\n",
    "# 2-2.\n",
    "longitude = -73.785692 ~ -73.781648 #가로. 왼쪽 ~ 오른쪽\n",
    "latitude = 40. 649094~ 40.647995 #세로. 위 ~ 아래\n",
    "\n",
    "# 2-3.\n",
    "longitude = -73.779073 ~ -73.77679442 #가로. 왼쪽 ~ 오른쪽. 보내주신 함수를 통해서 확인한 제일 오른쪽 경도 입니다\n",
    "latitude = 40.646994 ~ 40.643787 #세로. 위 ~ 아래\n",
    "\n",
    "# 2-4.\n",
    "longitude = -73.785295 ~ -73.779835 #가로. 왼쪽 ~ 오른쪽\n",
    "latitude = 40.64698 ~ 40.64294 #세로. 위 ~ 아래\n",
    "\n",
    "# 2-5.\n",
    "longitude = -73.791168 ~ -73.787549 #가로. 왼쪽 ~ 오른쪽\n",
    "latitude = 40.644526 ~ 40.4064365 #세로. 위 ~ 아래. 보내주신 함수를 통해서 확인한 제일 아래쪽 위도 입니다\n"
   ]
  },
  {
   "cell_type": "code",
   "execution_count": null,
   "metadata": {
    "collapsed": true
   },
   "outputs": [],
   "source": [
    "#JFK\n",
    "\n",
    "#lng : 왼쪽, 오른쪽\n",
    "#ltt : 위, 아래\n",
    "\n",
    "JFK_whole = {'lng' :  [-73.79139709, -73.77679442], 'ltt' : [40. 649094, 40.64365]}\n",
    "\n",
    "#밀도 높은 부분들 중에서 왼쪽 위 부터 시계 방향으로\n",
    "\n",
    "JFK_area1 = {'lng' :  [73.79139709, -73.78795624], 'ltt' : [40.647731, 40.646172]}\n",
    "JFK_area2 = {'lng' : [-73.785692, -73.781648], 'ltt' : [40. 649094, 40.647995]}\n",
    "JFK_area3 = {'lng' : [-73.779073, -73.77679442], 'ltt' : [40.646994, 40.643787]}\n",
    "JFK_area4 = {'lng' : [-73.785295, -73.779835], 'ltt' : [40.64698, 40.64294]}\n",
    "JFK_area5 = {'lng' : [-73.791168, -73.787549], 'ltt' : [40.644526, 40.4064365]}\n"
   ]
  },
  {
   "cell_type": "code",
   "execution_count": null,
   "metadata": {
    "collapsed": true
   },
   "outputs": [],
   "source": [
    "# LaGuardia Airport\n",
    "\n",
    "# 1. whole\n",
    "longitude = -73.8862 ~ -73.8617 #가로. 왼쪽 ~ 오른쪽\n",
    "latitude = 40.774811 ~ 40.767603 #세로. 위 ~ 아래\n",
    "\n",
    "# 2. partial\n",
    "#왼쪽 부터 오른쪽 방향으로\n",
    "\n",
    "# 2-1. \n",
    "longitude = -73.8862 ~ -73.884859 #가로. 왼쪽 ~ 오른쪽. 함수를 통해 값 확인\n",
    "latitude = 40.773526 ~ 40.772366 #세로. 위 ~ 아래\n",
    "\n",
    "# 2-2.\n",
    "longitude = -73.876338 ~ -73.870159 #가로. 왼쪽 ~ 오른쪽\n",
    "latitude = 40.774811 ~ 40.773353 #세로. 위 ~ 아래\n",
    "\n",
    "# 2-3.\n",
    "longitude = -73.866019 ~ -73.8617 #가로. 왼쪽 ~ 오른쪽. 함수를 통해 값 확인\n",
    "latitude = 40.771225 ~ 40.767603 #세로. 위 ~ 아래\n"
   ]
  },
  {
   "cell_type": "code",
   "execution_count": null,
   "metadata": {
    "collapsed": true
   },
   "outputs": [],
   "source": [
    "# LaGuardia Airport\n",
    "\n",
    "#lng : 왼쪽, 오른쪽\n",
    "#ltt : 위, 아래\n",
    "\n",
    "LGA_whole = {'lng' :  [-73.8862, -73.8617], 'ltt' : [40.774811, 40.767603]}\n",
    "\n",
    "#밀도 높은 부분들 중에서 왼쪽 부터 오른쪽 방향으로\n",
    "\n",
    "LGA_area1 = {'lng' : [-73.8862, -73.884859], 'ltt' : [40.773526, 40.772366]}\n",
    "LGA_area2 = {'lng' : [-73.876338, -73.870159], 'ltt' : [40.774811, 40.773353]}\n",
    "LGA_area3 = {'lng' : [ -73.866019, -73.8617], 'ltt' : [40.771225, 40.767603]}\n"
   ]
  },
  {
   "cell_type": "code",
   "execution_count": 137,
   "metadata": {},
   "outputs": [
    {
     "name": "stdout",
     "output_type": "stream",
     "text": [
      "(6695, 7)\n"
     ]
    }
   ],
   "source": [
    "#밀도 값 확인을 통한 경도, 위도 찾는 함수\n",
    "\n",
    "lng_upper = -73.8617\n",
    "lng_lower = -73.866019\n",
    "lat_upper = 40.771225\n",
    "lat_lower = 40.767603\n",
    "\n",
    "def zone_filter(df, lng_upper, lng_lower, lat_upper, lat_lower):\n",
    "\treturn df[ (df['p_lng'] < lng_upper)\n",
    "\t\t\t  &(df['p_lng'] > lng_lower)\n",
    "\t\t\t  &(df['p_lat'] < lat_upper)\n",
    "\t\t\t  &(df['p_lat'] > lat_lower) ]\n",
    "\n",
    "print(zone_filter(taxi_df,\\\n",
    "\t\t\t\t  lng_upper, lng_lower,\\\n",
    "\t\t\t\t  lat_upper, lat_lower).shape)\n"
   ]
  }
 ],
 "metadata": {
  "kernelspec": {
   "display_name": "Python 3",
   "language": "python",
   "name": "python3"
  },
  "language_info": {
   "codemirror_mode": {
    "name": "ipython",
    "version": 3
   },
   "file_extension": ".py",
   "mimetype": "text/x-python",
   "name": "python",
   "nbconvert_exporter": "python",
   "pygments_lexer": "ipython3",
   "version": "3.6.1"
  }
 },
 "nbformat": 4,
 "nbformat_minor": 2
}
