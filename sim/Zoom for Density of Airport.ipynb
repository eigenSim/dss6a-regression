{
 "cells": [
  {
   "cell_type": "code",
   "execution_count": null,
   "metadata": {
    "collapsed": true
   },
   "outputs": [],
   "source": [
    "# zoom in on JFK Airport\n",
    "\n",
    "imageSizeJFK = (600,750) #세로, 가로\n",
    "\n",
    "latRangeJFK = [-15,-10] #세로\n",
    "longRangeJFK = [14,18] # 가로\n",
    "\n",
    "indToKeep  = np.logical_and(allLat > latRangeJFK[0], allLat < latRangeJFK[1])\n",
    "indToKeep  = np.logical_and(indToKeep, np.logical_and(allLong > longRangeJFK[0], allLong < longRangeJFK[1]))\n",
    "allLatJFK  = allLat[indToKeep]\n",
    "allLongJFK = allLong[indToKeep]\n",
    "\n",
    "allLatIndsJFK  = (imageSizeJFK[0]-1) - (imageSizeJFK[0] * (allLatJFK  - latRangeJFK[0])\n",
    "                                                        / (latRangeJFK[1] - latRangeJFK[0])).astype(int)\n",
    "allLongIndsJFK=                       (imageSizeJFK[1] * (allLongJFK - longRangeJFK[0])\n",
    "                                                        / (longRangeJFK[1] - longRangeJFK[0])).astype(int)\n",
    "\n",
    "locationDensityImageJFK = np.zeros(imageSizeJFK)\n",
    "for latInd, longInd in zip(allLatIndsJFK,allLongIndsJFK):\n",
    "    locationDensityImageJFK[latInd,longInd] += 1\n",
    "\n",
    "fig, ax = plt.subplots(nrows=1,ncols=1,figsize=(12,18))\n",
    "ax.imshow(np.log(locationDensityImageJFK+1),cmap='hot')\n",
    "ax.set_axis_off()\n"
   ]
  },
  {
   "cell_type": "code",
   "execution_count": null,
   "metadata": {
    "collapsed": true
   },
   "outputs": [],
   "source": [
    "# zoom in on LaGuardia Airport\n",
    "\n",
    "imageSizeLGA = (300,600) #세로, 가로\n",
    "\n",
    "latRangeLGA = [1,3] #세로\n",
    "longRangeLGA = [7,11] # 가로\n",
    "\n",
    "indToKeep  = np.logical_and(allLat > latRangeLGA[0], allLat < latRangeLGA[1])\n",
    "indToKeep  = np.logical_and(indToKeep, np.logical_and(allLong > longRangeLGA[0], allLong < longRangeLGA[1]))\n",
    "allLatLGA  = allLat[indToKeep]\n",
    "allLongLGA = allLong[indToKeep]\n",
    "\n",
    "allLatIndsLGA  = (imageSizeLGA[0]-1) - (imageSizeLGA[0] * (allLatLGA  - latRangeLGA[0])\n",
    "                                                        / (latRangeLGA[1] - latRangeLGA[0])).astype(int)\n",
    "allLongIndsLGA=                       (imageSizeLGA[1] * (allLongLGA - longRangeLGA[0])\n",
    "                                                        / (longRangeLGA[1] - longRangeLGA[0])).astype(int)\n",
    "\n",
    "locationDensityImageLGA = np.zeros(imageSizeLGA)\n",
    "for latInd, longInd in zip(allLatIndsLGA,allLongIndsLGA):\n",
    "    locationDensityImageLGA[latInd,longInd] += 1\n",
    "\n",
    "fig, ax = plt.subplots(nrows=1,ncols=1,figsize=(12,18))\n",
    "ax.imshow(np.log(locationDensityImageLGA+1),cmap='hot')\n",
    "ax.set_axis_off()\n"
   ]
  }
 ],
 "metadata": {
  "kernelspec": {
   "display_name": "Python 3",
   "language": "python",
   "name": "python3"
  },
  "language_info": {
   "codemirror_mode": {
    "name": "ipython",
    "version": 3
   },
   "file_extension": ".py",
   "mimetype": "text/x-python",
   "name": "python",
   "nbconvert_exporter": "python",
   "pygments_lexer": "ipython3",
   "version": "3.6.1"
  }
 },
 "nbformat": 4,
 "nbformat_minor": 2
}
