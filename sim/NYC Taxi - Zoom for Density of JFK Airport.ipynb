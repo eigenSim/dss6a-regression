{
 "cells": [
  {
   "cell_type": "code",
   "execution_count": null,
   "metadata": {
    "collapsed": true
   },
   "outputs": [],
   "source": [
    "# zoom in on JFK Airport\n",
    "imageSizeJFK = (480,480)\n",
    "latRangeJFK = [-15,-10]\n",
    "longRangeJFK = [15,18]\n",
    "\n",
    "indToKeep  = np.logical_and(allLat > latRangeJFK[0], allLat < latRangeJFK[1])\n",
    "indToKeep  = np.logical_and(indToKeep, np.logical_and(allLong > longRangeJFK[0], allLong < longRangeJFK[1]))\n",
    "allLatJFK  = allLat[indToKeep]\n",
    "allLongJFK = allLong[indToKeep]\n",
    "\n",
    "allLatIndsJFK  = (imageSizeJFK[0]-1) - (imageSizeJFK[0] * (allLatJFK  - latRangeJFK[0])\n",
    "                                                        / (latRangeJFK[1] - latRangeJFK[0])).astype(int)\n",
    "allLongIndsJFK=                       (imageSizeJFK[1] * (allLongJFK - longRangeJFK[0])\n",
    "                                                        / (longRangeJFK[1] - longRangeJFK[0])).astype(int)\n",
    "\n",
    "locationDensityImageJFK = np.zeros(imageSizeJFK)\n",
    "for latInd, longInd in zip(allLatIndsJFK,allLongIndsJFK):\n",
    "    locationDensityImageJFK[latInd,longInd] += 1\n",
    "\n",
    "fig, ax = plt.subplots(nrows=1,ncols=1,figsize=(12,18))\n",
    "ax.imshow(np.log(locationDensityImageJFK+1),cmap='hot')\n",
    "ax.set_axis_off()"
   ]
  }
 ],
 "metadata": {
  "kernelspec": {
   "display_name": "Python 3",
   "language": "python",
   "name": "python3"
  },
  "language_info": {
   "codemirror_mode": {
    "name": "ipython",
    "version": 3
   },
   "file_extension": ".py",
   "mimetype": "text/x-python",
   "name": "python",
   "nbconvert_exporter": "python",
   "pygments_lexer": "ipython3",
   "version": "3.6.1"
  }
 },
 "nbformat": 4,
 "nbformat_minor": 2
}
