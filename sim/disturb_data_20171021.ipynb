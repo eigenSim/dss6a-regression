{
 "cells": [
  {
   "cell_type": "code",
   "execution_count": 1,
   "metadata": {},
   "outputs": [
    {
     "name": "stderr",
     "output_type": "stream",
     "text": [
      "/home/eigensim/anaconda3/lib/python3.6/site-packages/statsmodels/compat/pandas.py:56: FutureWarning: The pandas.core.datetools module is deprecated and will be removed in a future version. Please use the pandas.tseries module instead.\n",
      "  from pandas.core import datetools\n"
     ]
    }
   ],
   "source": [
    "import numpy as np\n",
    "import scipy as sp\n",
    "import pandas as pd\n",
    "import statsmodels.api as sm\n",
    "import statsmodels.formula.api as smf\n",
    "import statsmodels.stats.api as sms\n",
    "import sklearn as sk\n",
    "\n",
    "import matplotlib as mpl\n",
    "import matplotlib.pylab as plt\n",
    "from mpl_toolkits.mplot3d import Axes3D\n",
    "\n",
    "import seaborn as sns\n",
    "sns.set()\n",
    "sns.set_style(\"whitegrid\")\n",
    "sns.set_color_codes()"
   ]
  },
  {
   "cell_type": "code",
   "execution_count": 3,
   "metadata": {
    "collapsed": true
   },
   "outputs": [],
   "source": [
    "# directory variables (fixed)\n",
    "\n",
    "dataLoc = '../_data/'\n",
    "trainfile = 'train_03_997.csv'\n",
    "old_trainfile = 'train.csv'\n",
    "testfile = 'test_clean.csv'\n",
    "old_testfile = 'test.csv'\n",
    "train_171016 = '171016_dow_hr_pas_L2_dur_only.csv'\n",
    "disturb_file = 'train_03_997_disturb.csv'"
   ]
  },
  {
   "cell_type": "code",
   "execution_count": 5,
   "metadata": {},
   "outputs": [
    {
     "data": {
      "text/html": [
       "<div>\n",
       "<style>\n",
       "    .dataframe thead tr:only-child th {\n",
       "        text-align: right;\n",
       "    }\n",
       "\n",
       "    .dataframe thead th {\n",
       "        text-align: left;\n",
       "    }\n",
       "\n",
       "    .dataframe tbody tr th {\n",
       "        vertical-align: top;\n",
       "    }\n",
       "</style>\n",
       "<table border=\"1\" class=\"dataframe\">\n",
       "  <thead>\n",
       "    <tr style=\"text-align: right;\">\n",
       "      <th></th>\n",
       "      <th>id</th>\n",
       "      <th>vendor_id</th>\n",
       "      <th>pickup_datetime</th>\n",
       "      <th>dropoff_datetime</th>\n",
       "      <th>passenger_count</th>\n",
       "      <th>pickup_longitude</th>\n",
       "      <th>pickup_latitude</th>\n",
       "      <th>dropoff_longitude</th>\n",
       "      <th>dropoff_latitude</th>\n",
       "      <th>store_and_fwd_flag</th>\n",
       "      <th>trip_duration</th>\n",
       "    </tr>\n",
       "  </thead>\n",
       "  <tbody>\n",
       "    <tr>\n",
       "      <th>701773</th>\n",
       "      <td>id3888279</td>\n",
       "      <td>1</td>\n",
       "      <td>2016-01-01 00:01:00</td>\n",
       "      <td>1/1/16 0:05</td>\n",
       "      <td>1</td>\n",
       "      <td>-73.982292</td>\n",
       "      <td>40.751331</td>\n",
       "      <td>-73.991341</td>\n",
       "      <td>40.750340</td>\n",
       "      <td>N</td>\n",
       "      <td>280</td>\n",
       "    </tr>\n",
       "    <tr>\n",
       "      <th>701774</th>\n",
       "      <td>id1210365</td>\n",
       "      <td>2</td>\n",
       "      <td>2016-01-01 00:01:00</td>\n",
       "      <td>1/1/16 0:07</td>\n",
       "      <td>5</td>\n",
       "      <td>-73.965279</td>\n",
       "      <td>40.801041</td>\n",
       "      <td>-73.947479</td>\n",
       "      <td>40.815170</td>\n",
       "      <td>N</td>\n",
       "      <td>408</td>\n",
       "    </tr>\n",
       "    <tr>\n",
       "      <th>701775</th>\n",
       "      <td>id0924227</td>\n",
       "      <td>1</td>\n",
       "      <td>2016-01-01 00:01:00</td>\n",
       "      <td>1/1/16 0:13</td>\n",
       "      <td>1</td>\n",
       "      <td>-73.970108</td>\n",
       "      <td>40.759800</td>\n",
       "      <td>-73.989357</td>\n",
       "      <td>40.742989</td>\n",
       "      <td>N</td>\n",
       "      <td>736</td>\n",
       "    </tr>\n",
       "    <tr>\n",
       "      <th>701776</th>\n",
       "      <td>id0190469</td>\n",
       "      <td>2</td>\n",
       "      <td>2016-01-01 00:00:00</td>\n",
       "      <td>1/1/16 0:14</td>\n",
       "      <td>5</td>\n",
       "      <td>-73.981743</td>\n",
       "      <td>40.719158</td>\n",
       "      <td>-73.938828</td>\n",
       "      <td>40.829182</td>\n",
       "      <td>N</td>\n",
       "      <td>849</td>\n",
       "    </tr>\n",
       "    <tr>\n",
       "      <th>701777</th>\n",
       "      <td>id1665586</td>\n",
       "      <td>1</td>\n",
       "      <td>2016-01-01 00:00:00</td>\n",
       "      <td>1/1/16 0:22</td>\n",
       "      <td>1</td>\n",
       "      <td>-73.985085</td>\n",
       "      <td>40.747166</td>\n",
       "      <td>-73.958038</td>\n",
       "      <td>40.717491</td>\n",
       "      <td>N</td>\n",
       "      <td>1294</td>\n",
       "    </tr>\n",
       "  </tbody>\n",
       "</table>\n",
       "</div>"
      ],
      "text/plain": [
       "               id  vendor_id     pickup_datetime dropoff_datetime  \\\n",
       "701773  id3888279          1 2016-01-01 00:01:00      1/1/16 0:05   \n",
       "701774  id1210365          2 2016-01-01 00:01:00      1/1/16 0:07   \n",
       "701775  id0924227          1 2016-01-01 00:01:00      1/1/16 0:13   \n",
       "701776  id0190469          2 2016-01-01 00:00:00      1/1/16 0:14   \n",
       "701777  id1665586          1 2016-01-01 00:00:00      1/1/16 0:22   \n",
       "\n",
       "        passenger_count  pickup_longitude  pickup_latitude  dropoff_longitude  \\\n",
       "701773                1        -73.982292        40.751331         -73.991341   \n",
       "701774                5        -73.965279        40.801041         -73.947479   \n",
       "701775                1        -73.970108        40.759800         -73.989357   \n",
       "701776                5        -73.981743        40.719158         -73.938828   \n",
       "701777                1        -73.985085        40.747166         -73.958038   \n",
       "\n",
       "        dropoff_latitude store_and_fwd_flag  trip_duration  \n",
       "701773         40.750340                  N            280  \n",
       "701774         40.815170                  N            408  \n",
       "701775         40.742989                  N            736  \n",
       "701776         40.829182                  N            849  \n",
       "701777         40.717491                  N           1294  "
      ]
     },
     "execution_count": 5,
     "metadata": {},
     "output_type": "execute_result"
    }
   ],
   "source": [
    "#train.csv\n",
    "\n",
    "orig_df = pd.read_csv(dataLoc + old_trainfile,\n",
    "                     infer_datetime_format=True,\n",
    "                     parse_dates=['pickup_datetime'])\n",
    "orig_df.tail()"
   ]
  },
  {
   "cell_type": "code",
   "execution_count": 6,
   "metadata": {},
   "outputs": [
    {
     "data": {
      "text/html": [
       "<div>\n",
       "<style>\n",
       "    .dataframe thead tr:only-child th {\n",
       "        text-align: right;\n",
       "    }\n",
       "\n",
       "    .dataframe thead th {\n",
       "        text-align: left;\n",
       "    }\n",
       "\n",
       "    .dataframe tbody tr th {\n",
       "        vertical-align: top;\n",
       "    }\n",
       "</style>\n",
       "<table border=\"1\" class=\"dataframe\">\n",
       "  <thead>\n",
       "    <tr style=\"text-align: right;\">\n",
       "      <th></th>\n",
       "      <th>id</th>\n",
       "      <th>vendor_id</th>\n",
       "      <th>pickup_datetime</th>\n",
       "      <th>dropoff_datetime</th>\n",
       "      <th>passenger_count</th>\n",
       "      <th>pickup_longitude</th>\n",
       "      <th>pickup_latitude</th>\n",
       "      <th>dropoff_longitude</th>\n",
       "      <th>dropoff_latitude</th>\n",
       "      <th>store_and_fwd_flag</th>\n",
       "      <th>trip_duration</th>\n",
       "    </tr>\n",
       "  </thead>\n",
       "  <tbody>\n",
       "    <tr>\n",
       "      <th>701773</th>\n",
       "      <td>id3888279</td>\n",
       "      <td>1</td>\n",
       "      <td>2016-01-01 00:01:00</td>\n",
       "      <td>1/1/16 0:05</td>\n",
       "      <td>1</td>\n",
       "      <td>-73.982292</td>\n",
       "      <td>40.751331</td>\n",
       "      <td>-73.991341</td>\n",
       "      <td>40.750340</td>\n",
       "      <td>0</td>\n",
       "      <td>280</td>\n",
       "    </tr>\n",
       "    <tr>\n",
       "      <th>701774</th>\n",
       "      <td>id1210365</td>\n",
       "      <td>2</td>\n",
       "      <td>2016-01-01 00:01:00</td>\n",
       "      <td>1/1/16 0:07</td>\n",
       "      <td>5</td>\n",
       "      <td>-73.965279</td>\n",
       "      <td>40.801041</td>\n",
       "      <td>-73.947479</td>\n",
       "      <td>40.815170</td>\n",
       "      <td>0</td>\n",
       "      <td>408</td>\n",
       "    </tr>\n",
       "    <tr>\n",
       "      <th>701775</th>\n",
       "      <td>id0924227</td>\n",
       "      <td>1</td>\n",
       "      <td>2016-01-01 00:01:00</td>\n",
       "      <td>1/1/16 0:13</td>\n",
       "      <td>1</td>\n",
       "      <td>-73.970108</td>\n",
       "      <td>40.759800</td>\n",
       "      <td>-73.989357</td>\n",
       "      <td>40.742989</td>\n",
       "      <td>0</td>\n",
       "      <td>736</td>\n",
       "    </tr>\n",
       "    <tr>\n",
       "      <th>701776</th>\n",
       "      <td>id0190469</td>\n",
       "      <td>2</td>\n",
       "      <td>2016-01-01 00:00:00</td>\n",
       "      <td>1/1/16 0:14</td>\n",
       "      <td>5</td>\n",
       "      <td>-73.981743</td>\n",
       "      <td>40.719158</td>\n",
       "      <td>-73.938828</td>\n",
       "      <td>40.829182</td>\n",
       "      <td>0</td>\n",
       "      <td>849</td>\n",
       "    </tr>\n",
       "    <tr>\n",
       "      <th>701777</th>\n",
       "      <td>id1665586</td>\n",
       "      <td>1</td>\n",
       "      <td>2016-01-01 00:00:00</td>\n",
       "      <td>1/1/16 0:22</td>\n",
       "      <td>1</td>\n",
       "      <td>-73.985085</td>\n",
       "      <td>40.747166</td>\n",
       "      <td>-73.958038</td>\n",
       "      <td>40.717491</td>\n",
       "      <td>0</td>\n",
       "      <td>1294</td>\n",
       "    </tr>\n",
       "  </tbody>\n",
       "</table>\n",
       "</div>"
      ],
      "text/plain": [
       "               id  vendor_id     pickup_datetime dropoff_datetime  \\\n",
       "701773  id3888279          1 2016-01-01 00:01:00      1/1/16 0:05   \n",
       "701774  id1210365          2 2016-01-01 00:01:00      1/1/16 0:07   \n",
       "701775  id0924227          1 2016-01-01 00:01:00      1/1/16 0:13   \n",
       "701776  id0190469          2 2016-01-01 00:00:00      1/1/16 0:14   \n",
       "701777  id1665586          1 2016-01-01 00:00:00      1/1/16 0:22   \n",
       "\n",
       "        passenger_count  pickup_longitude  pickup_latitude  dropoff_longitude  \\\n",
       "701773                1        -73.982292        40.751331         -73.991341   \n",
       "701774                5        -73.965279        40.801041         -73.947479   \n",
       "701775                1        -73.970108        40.759800         -73.989357   \n",
       "701776                5        -73.981743        40.719158         -73.938828   \n",
       "701777                1        -73.985085        40.747166         -73.958038   \n",
       "\n",
       "        dropoff_latitude  store_and_fwd_flag  trip_duration  \n",
       "701773         40.750340                   0            280  \n",
       "701774         40.815170                   0            408  \n",
       "701775         40.742989                   0            736  \n",
       "701776         40.829182                   0            849  \n",
       "701777         40.717491                   0           1294  "
      ]
     },
     "execution_count": 6,
     "metadata": {},
     "output_type": "execute_result"
    }
   ],
   "source": [
    "orig_df['store_and_fwd_flag'].replace(['N', 'Y'], [0, 1], inplace = True) #inplace=True로 데이터프레임에 입력됨\n",
    "orig_df.tail()"
   ]
  },
  {
   "cell_type": "code",
   "execution_count": 7,
   "metadata": {},
   "outputs": [
    {
     "data": {
      "text/plain": [
       "(701778, 11)"
      ]
     },
     "execution_count": 7,
     "metadata": {},
     "output_type": "execute_result"
    }
   ],
   "source": [
    "orig_df.shape"
   ]
  },
  {
   "cell_type": "code",
   "execution_count": 9,
   "metadata": {},
   "outputs": [
    {
     "name": "stdout",
     "output_type": "stream",
     "text": [
      "1.0\n",
      "-78.54740143\n",
      "34.35969543\n",
      "-79.81797791\n",
      "32.1811409\n"
     ]
    }
   ],
   "source": [
    "print(np.percentile(orig_df['trip_duration'], 0))\n",
    "print(np.percentile(orig_df['pickup_longitude'], 0))\n",
    "print(np.percentile(orig_df['pickup_latitude'], 0))\n",
    "print(np.percentile(orig_df['dropoff_longitude'], 0))\n",
    "print(np.percentile(orig_df['dropoff_latitude'], 0))"
   ]
  },
  {
   "cell_type": "code",
   "execution_count": 5,
   "metadata": {
    "scrolled": true
   },
   "outputs": [
    {
     "name": "stdout",
     "output_type": "stream",
     "text": [
      "3526282.0\n",
      "-61.33552933\n",
      "43.48688507\n",
      "-61.33552933\n",
      "43.67399979\n"
     ]
    }
   ],
   "source": [
    "print(np.percentile(orig_df['trip_duration'], 100))\n",
    "print(np.percentile(orig_df['pickup_longitude'], 100))\n",
    "print(np.percentile(orig_df['pickup_latitude'], 100))\n",
    "print(np.percentile(orig_df['dropoff_longitude'], 100))\n",
    "print(np.percentile(orig_df['dropoff_latitude'], 100))"
   ]
  },
  {
   "cell_type": "code",
   "execution_count": 7,
   "metadata": {
    "collapsed": true
   },
   "outputs": [],
   "source": [
    "lower_p_lng = np.percentile(orig_df['pickup_longitude'], 0.3)\n",
    "upper_p_lng = np.percentile(orig_df['pickup_longitude'], 99.7)\n",
    "\n",
    "lower_p_lat = np.percentile(orig_df['pickup_latitude'], 0.3)\n",
    "upper_p_lat = np.percentile(orig_df['pickup_latitude'], 99.7)\n",
    "\n",
    "lower_d_lng = np.percentile(orig_df['dropoff_longitude'], 0.3)\n",
    "upper_d_lng = np.percentile(orig_df['dropoff_longitude'], 99.7)\n",
    "\n",
    "lower_d_lat = np.percentile(orig_df['dropoff_latitude'], 0.3)\n",
    "upper_d_lat = np.percentile(orig_df['dropoff_latitude'], 99.7)\n",
    "\n",
    "lower_dur = np.percentile(orig_df['trip_duration'], 0.3)\n",
    "upper_dur = np.percentile(orig_df['trip_duration'], 99.7)"
   ]
  },
  {
   "cell_type": "code",
   "execution_count": 7,
   "metadata": {},
   "outputs": [
    {
     "data": {
      "text/html": [
       "<div>\n",
       "<style>\n",
       "    .dataframe thead tr:only-child th {\n",
       "        text-align: right;\n",
       "    }\n",
       "\n",
       "    .dataframe thead th {\n",
       "        text-align: left;\n",
       "    }\n",
       "\n",
       "    .dataframe tbody tr th {\n",
       "        vertical-align: top;\n",
       "    }\n",
       "</style>\n",
       "<table border=\"1\" class=\"dataframe\">\n",
       "  <thead>\n",
       "    <tr style=\"text-align: right;\">\n",
       "      <th></th>\n",
       "      <th>id</th>\n",
       "      <th>vendor_id</th>\n",
       "      <th>pickup_datetime</th>\n",
       "      <th>dropoff_datetime</th>\n",
       "      <th>passenger_count</th>\n",
       "      <th>pickup_longitude</th>\n",
       "      <th>pickup_latitude</th>\n",
       "      <th>dropoff_longitude</th>\n",
       "      <th>dropoff_latitude</th>\n",
       "      <th>trip_duration</th>\n",
       "      <th>store_and_fwd_flag_binom</th>\n",
       "    </tr>\n",
       "  </thead>\n",
       "  <tbody>\n",
       "    <tr>\n",
       "      <th>701773</th>\n",
       "      <td>id3888279</td>\n",
       "      <td>1</td>\n",
       "      <td>2016-01-01 00:01:00</td>\n",
       "      <td>1/1/16 0:05</td>\n",
       "      <td>1</td>\n",
       "      <td>-73.982292</td>\n",
       "      <td>40.751331</td>\n",
       "      <td>-73.991341</td>\n",
       "      <td>40.750340</td>\n",
       "      <td>280</td>\n",
       "      <td>0</td>\n",
       "    </tr>\n",
       "    <tr>\n",
       "      <th>701774</th>\n",
       "      <td>id1210365</td>\n",
       "      <td>2</td>\n",
       "      <td>2016-01-01 00:01:00</td>\n",
       "      <td>1/1/16 0:07</td>\n",
       "      <td>5</td>\n",
       "      <td>-73.965279</td>\n",
       "      <td>40.801041</td>\n",
       "      <td>-73.947479</td>\n",
       "      <td>40.815170</td>\n",
       "      <td>408</td>\n",
       "      <td>0</td>\n",
       "    </tr>\n",
       "    <tr>\n",
       "      <th>701775</th>\n",
       "      <td>id0924227</td>\n",
       "      <td>1</td>\n",
       "      <td>2016-01-01 00:01:00</td>\n",
       "      <td>1/1/16 0:13</td>\n",
       "      <td>1</td>\n",
       "      <td>-73.970108</td>\n",
       "      <td>40.759800</td>\n",
       "      <td>-73.989357</td>\n",
       "      <td>40.742989</td>\n",
       "      <td>736</td>\n",
       "      <td>0</td>\n",
       "    </tr>\n",
       "    <tr>\n",
       "      <th>701776</th>\n",
       "      <td>id0190469</td>\n",
       "      <td>2</td>\n",
       "      <td>2016-01-01 00:00:00</td>\n",
       "      <td>1/1/16 0:14</td>\n",
       "      <td>5</td>\n",
       "      <td>-73.981743</td>\n",
       "      <td>40.719158</td>\n",
       "      <td>-73.938828</td>\n",
       "      <td>40.829182</td>\n",
       "      <td>849</td>\n",
       "      <td>0</td>\n",
       "    </tr>\n",
       "    <tr>\n",
       "      <th>701777</th>\n",
       "      <td>id1665586</td>\n",
       "      <td>1</td>\n",
       "      <td>2016-01-01 00:00:00</td>\n",
       "      <td>1/1/16 0:22</td>\n",
       "      <td>1</td>\n",
       "      <td>-73.985085</td>\n",
       "      <td>40.747166</td>\n",
       "      <td>-73.958038</td>\n",
       "      <td>40.717491</td>\n",
       "      <td>1294</td>\n",
       "      <td>0</td>\n",
       "    </tr>\n",
       "  </tbody>\n",
       "</table>\n",
       "</div>"
      ],
      "text/plain": [
       "               id  vendor_id     pickup_datetime dropoff_datetime  \\\n",
       "701773  id3888279          1 2016-01-01 00:01:00      1/1/16 0:05   \n",
       "701774  id1210365          2 2016-01-01 00:01:00      1/1/16 0:07   \n",
       "701775  id0924227          1 2016-01-01 00:01:00      1/1/16 0:13   \n",
       "701776  id0190469          2 2016-01-01 00:00:00      1/1/16 0:14   \n",
       "701777  id1665586          1 2016-01-01 00:00:00      1/1/16 0:22   \n",
       "\n",
       "        passenger_count  pickup_longitude  pickup_latitude  dropoff_longitude  \\\n",
       "701773                1        -73.982292        40.751331         -73.991341   \n",
       "701774                5        -73.965279        40.801041         -73.947479   \n",
       "701775                1        -73.970108        40.759800         -73.989357   \n",
       "701776                5        -73.981743        40.719158         -73.938828   \n",
       "701777                1        -73.985085        40.747166         -73.958038   \n",
       "\n",
       "        dropoff_latitude  trip_duration  store_and_fwd_flag_binom  \n",
       "701773         40.750340            280                         0  \n",
       "701774         40.815170            408                         0  \n",
       "701775         40.742989            736                         0  \n",
       "701776         40.829182            849                         0  \n",
       "701777         40.717491           1294                         0  "
      ]
     },
     "execution_count": 7,
     "metadata": {},
     "output_type": "execute_result"
    }
   ],
   "source": [
    "orig_df['store_and_fwd_flag_binom'] = orig_df['store_and_fwd_flag']\n",
    "del orig_df['store_and_fwd_flag']\n",
    "orig_df.tail()"
   ]
  },
  {
   "cell_type": "code",
   "execution_count": 8,
   "metadata": {
    "collapsed": true,
    "scrolled": false
   },
   "outputs": [],
   "source": [
    "for i in range(5, 9+1):\n",
    "    lower = np.percentile(orig_df.iloc[:, i], 0.3)\n",
    "    upper = np.percentile(orig_df.iloc[:, i], 99.7)\n",
    "    filtered_df = orig_df[(orig_df.iloc[:, i] > lower) & (orig_df.iloc[:, i] < upper)]\n",
    "    \n",
    "# pickup, dropoff, duration 의 각 상위 하위 0.3% 제거"
   ]
  },
  {
   "cell_type": "code",
   "execution_count": 9,
   "metadata": {},
   "outputs": [
    {
     "name": "stdout",
     "output_type": "stream",
     "text": [
      "(697516, 11)\n"
     ]
    },
    {
     "data": {
      "text/html": [
       "<div>\n",
       "<style>\n",
       "    .dataframe thead tr:only-child th {\n",
       "        text-align: right;\n",
       "    }\n",
       "\n",
       "    .dataframe thead th {\n",
       "        text-align: left;\n",
       "    }\n",
       "\n",
       "    .dataframe tbody tr th {\n",
       "        vertical-align: top;\n",
       "    }\n",
       "</style>\n",
       "<table border=\"1\" class=\"dataframe\">\n",
       "  <thead>\n",
       "    <tr style=\"text-align: right;\">\n",
       "      <th></th>\n",
       "      <th>id</th>\n",
       "      <th>vendor_id</th>\n",
       "      <th>pickup_datetime</th>\n",
       "      <th>dropoff_datetime</th>\n",
       "      <th>passenger_count</th>\n",
       "      <th>pickup_longitude</th>\n",
       "      <th>pickup_latitude</th>\n",
       "      <th>dropoff_longitude</th>\n",
       "      <th>dropoff_latitude</th>\n",
       "      <th>trip_duration</th>\n",
       "      <th>store_and_fwd_flag_binom</th>\n",
       "    </tr>\n",
       "  </thead>\n",
       "  <tbody>\n",
       "    <tr>\n",
       "      <th>701773</th>\n",
       "      <td>id3888279</td>\n",
       "      <td>1</td>\n",
       "      <td>2016-01-01 00:01:00</td>\n",
       "      <td>1/1/16 0:05</td>\n",
       "      <td>1</td>\n",
       "      <td>-73.982292</td>\n",
       "      <td>40.751331</td>\n",
       "      <td>-73.991341</td>\n",
       "      <td>40.750340</td>\n",
       "      <td>280</td>\n",
       "      <td>0</td>\n",
       "    </tr>\n",
       "    <tr>\n",
       "      <th>701774</th>\n",
       "      <td>id1210365</td>\n",
       "      <td>2</td>\n",
       "      <td>2016-01-01 00:01:00</td>\n",
       "      <td>1/1/16 0:07</td>\n",
       "      <td>5</td>\n",
       "      <td>-73.965279</td>\n",
       "      <td>40.801041</td>\n",
       "      <td>-73.947479</td>\n",
       "      <td>40.815170</td>\n",
       "      <td>408</td>\n",
       "      <td>0</td>\n",
       "    </tr>\n",
       "    <tr>\n",
       "      <th>701775</th>\n",
       "      <td>id0924227</td>\n",
       "      <td>1</td>\n",
       "      <td>2016-01-01 00:01:00</td>\n",
       "      <td>1/1/16 0:13</td>\n",
       "      <td>1</td>\n",
       "      <td>-73.970108</td>\n",
       "      <td>40.759800</td>\n",
       "      <td>-73.989357</td>\n",
       "      <td>40.742989</td>\n",
       "      <td>736</td>\n",
       "      <td>0</td>\n",
       "    </tr>\n",
       "    <tr>\n",
       "      <th>701776</th>\n",
       "      <td>id0190469</td>\n",
       "      <td>2</td>\n",
       "      <td>2016-01-01 00:00:00</td>\n",
       "      <td>1/1/16 0:14</td>\n",
       "      <td>5</td>\n",
       "      <td>-73.981743</td>\n",
       "      <td>40.719158</td>\n",
       "      <td>-73.938828</td>\n",
       "      <td>40.829182</td>\n",
       "      <td>849</td>\n",
       "      <td>0</td>\n",
       "    </tr>\n",
       "    <tr>\n",
       "      <th>701777</th>\n",
       "      <td>id1665586</td>\n",
       "      <td>1</td>\n",
       "      <td>2016-01-01 00:00:00</td>\n",
       "      <td>1/1/16 0:22</td>\n",
       "      <td>1</td>\n",
       "      <td>-73.985085</td>\n",
       "      <td>40.747166</td>\n",
       "      <td>-73.958038</td>\n",
       "      <td>40.717491</td>\n",
       "      <td>1294</td>\n",
       "      <td>0</td>\n",
       "    </tr>\n",
       "  </tbody>\n",
       "</table>\n",
       "</div>"
      ],
      "text/plain": [
       "               id  vendor_id     pickup_datetime dropoff_datetime  \\\n",
       "701773  id3888279          1 2016-01-01 00:01:00      1/1/16 0:05   \n",
       "701774  id1210365          2 2016-01-01 00:01:00      1/1/16 0:07   \n",
       "701775  id0924227          1 2016-01-01 00:01:00      1/1/16 0:13   \n",
       "701776  id0190469          2 2016-01-01 00:00:00      1/1/16 0:14   \n",
       "701777  id1665586          1 2016-01-01 00:00:00      1/1/16 0:22   \n",
       "\n",
       "        passenger_count  pickup_longitude  pickup_latitude  dropoff_longitude  \\\n",
       "701773                1        -73.982292        40.751331         -73.991341   \n",
       "701774                5        -73.965279        40.801041         -73.947479   \n",
       "701775                1        -73.970108        40.759800         -73.989357   \n",
       "701776                5        -73.981743        40.719158         -73.938828   \n",
       "701777                1        -73.985085        40.747166         -73.958038   \n",
       "\n",
       "        dropoff_latitude  trip_duration  store_and_fwd_flag_binom  \n",
       "701773         40.750340            280                         0  \n",
       "701774         40.815170            408                         0  \n",
       "701775         40.742989            736                         0  \n",
       "701776         40.829182            849                         0  \n",
       "701777         40.717491           1294                         0  "
      ]
     },
     "execution_count": 9,
     "metadata": {},
     "output_type": "execute_result"
    }
   ],
   "source": [
    "print(filtered_df.shape)\n",
    "filtered_df.tail()"
   ]
  },
  {
   "cell_type": "code",
   "execution_count": 10,
   "metadata": {},
   "outputs": [
    {
     "name": "stdout",
     "output_type": "stream",
     "text": [
      "(697516, 4)\n"
     ]
    },
    {
     "name": "stderr",
     "output_type": "stream",
     "text": [
      "/home/eigensim/anaconda3/lib/python3.6/site-packages/pandas/core/frame.py:2844: SettingWithCopyWarning: \n",
      "A value is trying to be set on a copy of a slice from a DataFrame\n",
      "\n",
      "See the caveats in the documentation: http://pandas.pydata.org/pandas-docs/stable/indexing.html#indexing-view-versus-copy\n",
      "  **kwargs)\n"
     ]
    },
    {
     "data": {
      "text/html": [
       "<div>\n",
       "<style>\n",
       "    .dataframe thead tr:only-child th {\n",
       "        text-align: right;\n",
       "    }\n",
       "\n",
       "    .dataframe thead th {\n",
       "        text-align: left;\n",
       "    }\n",
       "\n",
       "    .dataframe tbody tr th {\n",
       "        vertical-align: top;\n",
       "    }\n",
       "</style>\n",
       "<table border=\"1\" class=\"dataframe\">\n",
       "  <thead>\n",
       "    <tr style=\"text-align: right;\">\n",
       "      <th></th>\n",
       "      <th>vendor_id</th>\n",
       "      <th>passenger_count</th>\n",
       "      <th>store_and_fwd_flag</th>\n",
       "      <th>trip_duration</th>\n",
       "    </tr>\n",
       "  </thead>\n",
       "  <tbody>\n",
       "    <tr>\n",
       "      <th>701773</th>\n",
       "      <td>1</td>\n",
       "      <td>1</td>\n",
       "      <td>0</td>\n",
       "      <td>280</td>\n",
       "    </tr>\n",
       "    <tr>\n",
       "      <th>701774</th>\n",
       "      <td>2</td>\n",
       "      <td>5</td>\n",
       "      <td>0</td>\n",
       "      <td>408</td>\n",
       "    </tr>\n",
       "    <tr>\n",
       "      <th>701775</th>\n",
       "      <td>1</td>\n",
       "      <td>1</td>\n",
       "      <td>0</td>\n",
       "      <td>736</td>\n",
       "    </tr>\n",
       "    <tr>\n",
       "      <th>701776</th>\n",
       "      <td>2</td>\n",
       "      <td>5</td>\n",
       "      <td>0</td>\n",
       "      <td>849</td>\n",
       "    </tr>\n",
       "    <tr>\n",
       "      <th>701777</th>\n",
       "      <td>1</td>\n",
       "      <td>1</td>\n",
       "      <td>0</td>\n",
       "      <td>1294</td>\n",
       "    </tr>\n",
       "  </tbody>\n",
       "</table>\n",
       "</div>"
      ],
      "text/plain": [
       "        vendor_id  passenger_count  store_and_fwd_flag  trip_duration\n",
       "701773          1                1                   0            280\n",
       "701774          2                5                   0            408\n",
       "701775          1                1                   0            736\n",
       "701776          2                5                   0            849\n",
       "701777          1                1                   0           1294"
      ]
     },
     "execution_count": 10,
     "metadata": {},
     "output_type": "execute_result"
    }
   ],
   "source": [
    "disturb_df = filtered_df[['vendor_id', 'passenger_count', 'store_and_fwd_flag_binom', 'trip_duration']] #selected columns\n",
    "\n",
    "disturb_df.rename(columns = {'store_and_fwd_flag_binom' : 'store_and_fwd_flag'}, inplace = True)\n",
    "#renamed columns\n",
    "\n",
    "print(disturb_df.shape)\n",
    "disturb_df.tail()"
   ]
  },
  {
   "cell_type": "code",
   "execution_count": 11,
   "metadata": {
    "collapsed": true
   },
   "outputs": [],
   "source": [
    "disturb_df.to_csv('../_data/train_03_997_disturb.csv')"
   ]
  },
  {
   "cell_type": "code",
   "execution_count": null,
   "metadata": {
    "collapsed": true
   },
   "outputs": [],
   "source": [
    "#disturb_df = pd.read_csv(dataLoc + disturb_file)\n",
    "#print(disturb_df.shape)\n",
    "#disturb_df.tail()"
   ]
  },
  {
   "cell_type": "code",
   "execution_count": 12,
   "metadata": {
    "collapsed": true
   },
   "outputs": [],
   "source": [
    "x = disturb_df.iloc[:, :]\n",
    "y = disturb_df.iloc[:, :]\n",
    "\n",
    "disturb_xcols = ['vendor_id', 'passenger_count', 'store_and_fwd_flag']"
   ]
  },
  {
   "cell_type": "code",
   "execution_count": 33,
   "metadata": {},
   "outputs": [
    {
     "name": "stdout",
     "output_type": "stream",
     "text": [
      "['_classic_test', 'seaborn-talk', 'dark_background', 'seaborn-paper', 'seaborn', 'seaborn-notebook', 'seaborn-poster', 'seaborn-dark-palette', 'seaborn-bright', 'grayscale', 'seaborn-muted', 'seaborn-colorblind', 'seaborn-dark', 'seaborn-whitegrid', 'seaborn-darkgrid', 'seaborn-white', 'seaborn-pastel', 'bmh', 'seaborn-ticks', 'ggplot', 'classic', 'seaborn-deep', 'fivethirtyeight']\n"
     ]
    }
   ],
   "source": [
    "print(plt.style.available)"
   ]
  },
  {
   "cell_type": "code",
   "execution_count": 47,
   "metadata": {},
   "outputs": [
    {
     "data": {
      "text/plain": [
       "1    494652\n",
       "2     99862\n",
       "5     37921\n",
       "3     28187\n",
       "6     23385\n",
       "4     13494\n",
       "0        14\n",
       "8         1\n",
       "Name: passenger_count, dtype: int64"
      ]
     },
     "execution_count": 47,
     "metadata": {},
     "output_type": "execute_result"
    }
   ],
   "source": [
    "disturb_df['passenger_count'].value_counts()"
   ]
  },
  {
   "cell_type": "code",
   "execution_count": 13,
   "metadata": {},
   "outputs": [
    {
     "data": {
      "image/png": "[encoded data removed]",
      "text/plain": [
       "<matplotlib.figure.Figure at 0x7fb811d19ba8>"
      ]
     },
     "metadata": {},
     "output_type": "display_data"
    }
   ],
   "source": [
    "with plt.style.context(('ggplot')): #~.stye.context = Temporary styling\n",
    "    sns_plot = sns.pairplot(pd.concat([y.trip_duration, x[disturb_xcols[:]]], axis=1), size=3.5, plot_kws={\"s\": 50, 'alpha' : 0.03}) \n",
    "plt.show()"
   ]
  },
  {
   "cell_type": "code",
   "execution_count": null,
   "metadata": {
    "collapsed": true
   },
   "outputs": [],
   "source": []
  }
 ],
 "metadata": {
  "kernelspec": {
   "display_name": "Python 3",
   "language": "python",
   "name": "python3"
  },
  "language_info": {
   "codemirror_mode": {
    "name": "ipython",
    "version": 3
   },
   "file_extension": ".py",
   "mimetype": "text/x-python",
   "name": "python",
   "nbconvert_exporter": "python",
   "pygments_lexer": "ipython3",
   "version": "3.6.1"
  }
 },
 "nbformat": 4,
 "nbformat_minor": 2
}
