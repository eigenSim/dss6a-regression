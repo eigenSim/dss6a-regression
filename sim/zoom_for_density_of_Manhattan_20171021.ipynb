{
 "cells": [
  {
   "cell_type": "code",
   "execution_count": null,
   "metadata": {
    "collapsed": true
   },
   "outputs": [],
   "source": [
    "#South of Manhattan\n",
    "\n",
    "#marker = [longitude, latitude]\n",
    "\n",
    "#marker는 왼쪽 위에서부터 시계 방향으로\n",
    "\n",
    "# marker 1\n",
    "longitude = -73.971033\n",
    "latitude = 40.806079\n",
    "\n",
    "# marker 2\n",
    "longitude = -73.927839\n",
    "latitude = 40.788275\n",
    "\n",
    "# marker 3\n",
    "longitude = -73.964102\n",
    "latitude = 40.749439\n",
    "\n",
    "# marker 4\n",
    "longitude = -73.974997\n",
    "latitude = 40.709739\n",
    "\n",
    "# marker 5\n",
    "longitude = -74.02881\n",
    "latitude = 40.694901\n",
    "\n",
    "# marker 6\n",
    "longitude = -74.013784\n",
    "latitude = 40.756599\n"
   ]
  },
  {
   "cell_type": "code",
   "execution_count": null,
   "metadata": {
    "collapsed": true
   },
   "outputs": [],
   "source": [
    "pgon = Polygon([(-73.971033, 40.806079), (-73.927839, 40.788275), (-73.964102, 40.749439), \n",
    "                (-73.974997, 40.709739), (-74.02881, 40.694901), (-74.013784, 40.756599)])\n",
    "\n",
    "# 순서는 시계방향\n",
    "# (0, 2) : lng = 0, lat = 2"
   ]
  }
 ],
 "metadata": {
  "kernelspec": {
   "display_name": "Python 3",
   "language": "python",
   "name": "python3"
  },
  "language_info": {
   "codemirror_mode": {
    "name": "ipython",
    "version": 3
   },
   "file_extension": ".py",
   "mimetype": "text/x-python",
   "name": "python",
   "nbconvert_exporter": "python",
   "pygments_lexer": "ipython3",
   "version": "3.6.1"
  }
 },
 "nbformat": 4,
 "nbformat_minor": 2
}
