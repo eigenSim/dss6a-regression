{
 "cells": [
  {
   "cell_type": "code",
   "execution_count": 16,
   "metadata": {
    "collapsed": true
   },
   "outputs": [],
   "source": [
    "import numpy as np\n",
    "import scipy as sp\n",
    "import pandas as pd\n",
    "import statsmodels.api as sm\n",
    "import statsmodels.formula.api as smf\n",
    "import statsmodels.stats.api as sms\n",
    "import sklearn as sk\n",
    "\n",
    "import matplotlib as mpl\n",
    "import matplotlib.pylab as plt\n",
    "from mpl_toolkits.mplot3d import Axes3D\n",
    "\n",
    "import seaborn as sns\n",
    "sns.set()\n",
    "sns.set_style(\"whitegrid\")\n",
    "sns.set_color_codes()"
   ]
  },
  {
   "cell_type": "code",
   "execution_count": 1,
   "metadata": {
    "collapsed": true
   },
   "outputs": [],
   "source": [
    "# csv 읽어들일 때 사용할 변수들 정의\n",
    "\n",
    "# train.csv에서 dropoff_datetime 빼고 저장\n",
    "cols_list = ['pickup_datetime', 'passenger_count', \\\n",
    "             'pickup_longitude', 'pickup_latitude', \\\n",
    "             'dropoff_longitude', 'dropoff_latitude',\\\n",
    "             'trip_duration']\n",
    "# train.csv에서 dropoff_datetime 포함 저장\n",
    "cols_list2 = ['pickup_datetime', 'dropoff_datetime', \\\n",
    "             'passenger_count', \\\n",
    "             'pickup_longitude', 'pickup_latitude', \\\n",
    "             'dropoff_longitude', 'dropoff_latitude', \\\n",
    "             'trip_duration']\n",
    "# test.csv에서 저장\n",
    "cols_test = ['pickup_datetime', 'passenger_count', \\\n",
    "             'pickup_longitude', 'pickup_latitude', \\\n",
    "             'dropoff_longitude', 'dropoff_latitude']\n",
    "\n",
    "# cols_list 용\n",
    "short_cols = ['p_dt', 'pas', 'p_lng', 'p_lat', 'd_lng', 'd_lat', 'dur']\n",
    "# cols_list2 용\n",
    "short_cols2 = ['p_dt', 'd_dt', 'pas', 'p_lng', 'p_lat', 'd_lng', 'd_lat', 'dur']\n",
    "# cols_test 용\n",
    "short_test = ['p_dt', 'pas', 'p_lng', 'p_lat', 'd_lng', 'd_lat']"
   ]
  },
  {
   "cell_type": "code",
   "execution_count": 2,
   "metadata": {
    "collapsed": true
   },
   "outputs": [],
   "source": [
    "# 경로 변수 (고정)\n",
    "\n",
    "dataLoc = '../_data/'\n",
    "trainfile = 'train.csv'\n",
    "testfile = 'test.csv'"
   ]
  },
  {
   "cell_type": "code",
   "execution_count": 3,
   "metadata": {},
   "outputs": [
    {
     "data": {
      "text/html": [
       "<div>\n",
       "<style>\n",
       "    .dataframe thead tr:only-child th {\n",
       "        text-align: right;\n",
       "    }\n",
       "\n",
       "    .dataframe thead th {\n",
       "        text-align: left;\n",
       "    }\n",
       "\n",
       "    .dataframe tbody tr th {\n",
       "        vertical-align: top;\n",
       "    }\n",
       "</style>\n",
       "<table border=\"1\" class=\"dataframe\">\n",
       "  <thead>\n",
       "    <tr style=\"text-align: right;\">\n",
       "      <th></th>\n",
       "      <th>p_dt</th>\n",
       "      <th>pas</th>\n",
       "      <th>p_lng</th>\n",
       "      <th>p_lat</th>\n",
       "      <th>d_lng</th>\n",
       "      <th>d_lat</th>\n",
       "      <th>dur</th>\n",
       "    </tr>\n",
       "  </thead>\n",
       "  <tbody>\n",
       "    <tr>\n",
       "      <th>0</th>\n",
       "      <td>4/30/16 23:59</td>\n",
       "      <td>1</td>\n",
       "      <td>-73.987793</td>\n",
       "      <td>40.724792</td>\n",
       "      <td>-73.975616</td>\n",
       "      <td>40.656445</td>\n",
       "      <td>1454</td>\n",
       "    </tr>\n",
       "    <tr>\n",
       "      <th>1</th>\n",
       "      <td>4/30/16 23:59</td>\n",
       "      <td>1</td>\n",
       "      <td>-73.957596</td>\n",
       "      <td>40.717770</td>\n",
       "      <td>-73.951424</td>\n",
       "      <td>40.775230</td>\n",
       "      <td>1409</td>\n",
       "    </tr>\n",
       "    <tr>\n",
       "      <th>2</th>\n",
       "      <td>4/30/16 23:59</td>\n",
       "      <td>2</td>\n",
       "      <td>-74.000954</td>\n",
       "      <td>40.742031</td>\n",
       "      <td>-73.947708</td>\n",
       "      <td>40.782200</td>\n",
       "      <td>1081</td>\n",
       "    </tr>\n",
       "    <tr>\n",
       "      <th>3</th>\n",
       "      <td>4/30/16 23:58</td>\n",
       "      <td>1</td>\n",
       "      <td>-73.985733</td>\n",
       "      <td>40.738258</td>\n",
       "      <td>-73.993179</td>\n",
       "      <td>40.754890</td>\n",
       "      <td>800</td>\n",
       "    </tr>\n",
       "    <tr>\n",
       "      <th>4</th>\n",
       "      <td>4/30/16 23:58</td>\n",
       "      <td>1</td>\n",
       "      <td>-74.006615</td>\n",
       "      <td>40.740650</td>\n",
       "      <td>-73.985619</td>\n",
       "      <td>40.723362</td>\n",
       "      <td>1151</td>\n",
       "    </tr>\n",
       "  </tbody>\n",
       "</table>\n",
       "</div>"
      ],
      "text/plain": [
       "            p_dt  pas      p_lng      p_lat      d_lng      d_lat   dur\n",
       "0  4/30/16 23:59    1 -73.987793  40.724792 -73.975616  40.656445  1454\n",
       "1  4/30/16 23:59    1 -73.957596  40.717770 -73.951424  40.775230  1409\n",
       "2  4/30/16 23:59    2 -74.000954  40.742031 -73.947708  40.782200  1081\n",
       "3  4/30/16 23:58    1 -73.985733  40.738258 -73.993179  40.754890   800\n",
       "4  4/30/16 23:58    1 -74.006615  40.740650 -73.985619  40.723362  1151"
      ]
     },
     "execution_count": 3,
     "metadata": {},
     "output_type": "execute_result"
    }
   ],
   "source": [
    "# train.csv\n",
    "# dropoff_datetime을 뺄 경우: usecols=cols_list, .columns=short_cols\n",
    "# dropoff_datetime을 넣을 경우: usecols=cols_list2, .columns=short_cols2\n",
    "\n",
    "# train.csv (날짜 대충 읽는 버전, 빠름)\n",
    "taxi_df = pd.read_csv(dataLoc + trainfile, usecols=cols_list)\n",
    "taxi_df.columns = short_cols\n",
    "taxi_df.head()\n",
    "\n",
    "# train.csv (날짜 제대로 읽어오는 버전, 오래걸림)\n",
    "# taxi_df = pd.read_csv(dataLoc + trainfile, \\\n",
    "#                       usecols=cols_list, \\\n",
    "#                       infer_datetime_format=True, \\\n",
    "#                       # dropoff 포함할 경우 아래 리스트에 'dropoff_datetime'도 추가\n",
    "#                       parse_dates=['pickup_datetime'])\n",
    "# taxi_df.columns = short_cols\n",
    "# taxi_df.head()"
   ]
  },
  {
   "cell_type": "code",
   "execution_count": 4,
   "metadata": {},
   "outputs": [
    {
     "data": {
      "text/html": [
       "<div>\n",
       "<style>\n",
       "    .dataframe thead tr:only-child th {\n",
       "        text-align: right;\n",
       "    }\n",
       "\n",
       "    .dataframe thead th {\n",
       "        text-align: left;\n",
       "    }\n",
       "\n",
       "    .dataframe tbody tr th {\n",
       "        vertical-align: top;\n",
       "    }\n",
       "</style>\n",
       "<table border=\"1\" class=\"dataframe\">\n",
       "  <thead>\n",
       "    <tr style=\"text-align: right;\">\n",
       "      <th></th>\n",
       "      <th>p_dt</th>\n",
       "      <th>pas</th>\n",
       "      <th>p_lng</th>\n",
       "      <th>p_lat</th>\n",
       "      <th>d_lng</th>\n",
       "      <th>d_lat</th>\n",
       "    </tr>\n",
       "  </thead>\n",
       "  <tbody>\n",
       "    <tr>\n",
       "      <th>0</th>\n",
       "      <td>6/30/16 23:59</td>\n",
       "      <td>5</td>\n",
       "      <td>-73.998291</td>\n",
       "      <td>40.722618</td>\n",
       "      <td>-73.971779</td>\n",
       "      <td>40.762470</td>\n",
       "    </tr>\n",
       "    <tr>\n",
       "      <th>1</th>\n",
       "      <td>6/30/16 23:59</td>\n",
       "      <td>2</td>\n",
       "      <td>-73.955109</td>\n",
       "      <td>40.689564</td>\n",
       "      <td>-73.978203</td>\n",
       "      <td>40.685802</td>\n",
       "    </tr>\n",
       "    <tr>\n",
       "      <th>2</th>\n",
       "      <td>6/30/16 23:59</td>\n",
       "      <td>1</td>\n",
       "      <td>-73.978416</td>\n",
       "      <td>40.791576</td>\n",
       "      <td>-73.973160</td>\n",
       "      <td>40.675968</td>\n",
       "    </tr>\n",
       "    <tr>\n",
       "      <th>3</th>\n",
       "      <td>6/30/16 23:59</td>\n",
       "      <td>2</td>\n",
       "      <td>-73.873093</td>\n",
       "      <td>40.774097</td>\n",
       "      <td>-73.926704</td>\n",
       "      <td>40.856739</td>\n",
       "    </tr>\n",
       "    <tr>\n",
       "      <th>4</th>\n",
       "      <td>6/30/16 23:58</td>\n",
       "      <td>1</td>\n",
       "      <td>-73.979416</td>\n",
       "      <td>40.755211</td>\n",
       "      <td>-74.003548</td>\n",
       "      <td>40.738224</td>\n",
       "    </tr>\n",
       "  </tbody>\n",
       "</table>\n",
       "</div>"
      ],
      "text/plain": [
       "            p_dt  pas      p_lng      p_lat      d_lng      d_lat\n",
       "0  6/30/16 23:59    5 -73.998291  40.722618 -73.971779  40.762470\n",
       "1  6/30/16 23:59    2 -73.955109  40.689564 -73.978203  40.685802\n",
       "2  6/30/16 23:59    1 -73.978416  40.791576 -73.973160  40.675968\n",
       "3  6/30/16 23:59    2 -73.873093  40.774097 -73.926704  40.856739\n",
       "4  6/30/16 23:58    1 -73.979416  40.755211 -74.003548  40.738224"
      ]
     },
     "execution_count": 4,
     "metadata": {},
     "output_type": "execute_result"
    }
   ],
   "source": [
    "# test.csv (날짜 대충 읽는 버전, 빠름)\n",
    "test_df = pd.read_csv(dataLoc + testfile, usecols=cols_test)\n",
    "test_df.columns = short_test\n",
    "test_df.head()\n",
    "\n",
    "# test.csv (날짜 제대로 읽어오는 버전, 오래걸림)\n",
    "# test_df = pd.read_csv(dataLoc + testfile, \\\n",
    "#                       usecols=cols_test, \\\n",
    "#                       infer_datetime_format=True, \\\n",
    "#                       parse_dates=['pickup_datetime'])\n",
    "# test_df.columns = short_test\n",
    "# test_df.head()"
   ]
  },
  {
   "cell_type": "code",
   "execution_count": null,
   "metadata": {
    "collapsed": true
   },
   "outputs": [],
   "source": []
  },
  {
   "cell_type": "code",
   "execution_count": 9,
   "metadata": {},
   "outputs": [
    {
     "data": {
      "text/plain": [
       "-78.547401429999994"
      ]
     },
     "execution_count": 9,
     "metadata": {},
     "output_type": "execute_result"
    }
   ],
   "source": [
    "np.percentile(taxi_df['p_lat'], 0)"
   ]
  },
  {
   "cell_type": "code",
   "execution_count": 11,
   "metadata": {},
   "outputs": [
    {
     "data": {
      "text/plain": [
       "(701778, 7)"
      ]
     },
     "execution_count": 11,
     "metadata": {},
     "output_type": "execute_result"
    }
   ],
   "source": [
    "taxi_df.shape"
   ]
  },
  {
   "cell_type": "code",
   "execution_count": 18,
   "metadata": {},
   "outputs": [
    {
     "name": "stdout",
     "output_type": "stream",
     "text": [
      "-74.01612854\n",
      "-73.7767868\n"
     ]
    }
   ],
   "source": [
    "lower = np.percentile(taxi_df['p_lng'], 0.3)\n",
    "upper = np.percentile(taxi_df['p_lng'], 99.7)\n",
    "print(lower)\n",
    "print(upper)"
   ]
  },
  {
   "cell_type": "code",
   "execution_count": 13,
   "metadata": {},
   "outputs": [
    {
     "data": {
      "text/plain": [
       "(697482, 7)"
      ]
     },
     "execution_count": 13,
     "metadata": {},
     "output_type": "execute_result"
    }
   ],
   "source": [
    "filtered_df = taxi_df[ (taxi_df['p_lng'] > lower) \\\n",
    "                     & (taxi_df['p_lng'] < upper)]\n",
    "filtered_df.shape"
   ]
  },
  {
   "cell_type": "code",
   "execution_count": 34,
   "metadata": {
    "scrolled": false
   },
   "outputs": [
    {
     "data": {
      "text/html": [
       "<div>\n",
       "<style>\n",
       "    .dataframe thead tr:only-child th {\n",
       "        text-align: right;\n",
       "    }\n",
       "\n",
       "    .dataframe thead th {\n",
       "        text-align: left;\n",
       "    }\n",
       "\n",
       "    .dataframe tbody tr th {\n",
       "        vertical-align: top;\n",
       "    }\n",
       "</style>\n",
       "<table border=\"1\" class=\"dataframe\">\n",
       "  <thead>\n",
       "    <tr style=\"text-align: right;\">\n",
       "      <th></th>\n",
       "      <th>p_dt</th>\n",
       "      <th>pas</th>\n",
       "      <th>p_lng</th>\n",
       "      <th>p_lat</th>\n",
       "      <th>d_lng</th>\n",
       "      <th>d_lat</th>\n",
       "      <th>dur</th>\n",
       "    </tr>\n",
       "  </thead>\n",
       "  <tbody>\n",
       "    <tr>\n",
       "      <th>0</th>\n",
       "      <td>4/30/16 23:59</td>\n",
       "      <td>1</td>\n",
       "      <td>-73.987793</td>\n",
       "      <td>40.724792</td>\n",
       "      <td>-73.975616</td>\n",
       "      <td>40.656445</td>\n",
       "      <td>1454</td>\n",
       "    </tr>\n",
       "    <tr>\n",
       "      <th>1</th>\n",
       "      <td>4/30/16 23:59</td>\n",
       "      <td>1</td>\n",
       "      <td>-73.957596</td>\n",
       "      <td>40.717770</td>\n",
       "      <td>-73.951424</td>\n",
       "      <td>40.775230</td>\n",
       "      <td>1409</td>\n",
       "    </tr>\n",
       "    <tr>\n",
       "      <th>2</th>\n",
       "      <td>4/30/16 23:59</td>\n",
       "      <td>2</td>\n",
       "      <td>-74.000954</td>\n",
       "      <td>40.742031</td>\n",
       "      <td>-73.947708</td>\n",
       "      <td>40.782200</td>\n",
       "      <td>1081</td>\n",
       "    </tr>\n",
       "    <tr>\n",
       "      <th>3</th>\n",
       "      <td>4/30/16 23:58</td>\n",
       "      <td>1</td>\n",
       "      <td>-73.985733</td>\n",
       "      <td>40.738258</td>\n",
       "      <td>-73.993179</td>\n",
       "      <td>40.754890</td>\n",
       "      <td>800</td>\n",
       "    </tr>\n",
       "    <tr>\n",
       "      <th>4</th>\n",
       "      <td>4/30/16 23:58</td>\n",
       "      <td>1</td>\n",
       "      <td>-74.006615</td>\n",
       "      <td>40.740650</td>\n",
       "      <td>-73.985619</td>\n",
       "      <td>40.723362</td>\n",
       "      <td>1151</td>\n",
       "    </tr>\n",
       "  </tbody>\n",
       "</table>\n",
       "</div>"
      ],
      "text/plain": [
       "            p_dt  pas      p_lng      p_lat      d_lng      d_lat   dur\n",
       "0  4/30/16 23:59    1 -73.987793  40.724792 -73.975616  40.656445  1454\n",
       "1  4/30/16 23:59    1 -73.957596  40.717770 -73.951424  40.775230  1409\n",
       "2  4/30/16 23:59    2 -74.000954  40.742031 -73.947708  40.782200  1081\n",
       "3  4/30/16 23:58    1 -73.985733  40.738258 -73.993179  40.754890   800\n",
       "4  4/30/16 23:58    1 -74.006615  40.740650 -73.985619  40.723362  1151"
      ]
     },
     "execution_count": 34,
     "metadata": {},
     "output_type": "execute_result"
    }
   ],
   "source": [
    "filtered_df.head()"
   ]
  },
  {
   "cell_type": "code",
   "execution_count": 41,
   "metadata": {},
   "outputs": [
    {
     "data": {
      "text/plain": [
       "p_dt     4/30/16 23:59\n",
       "pas                  2\n",
       "p_lng          -74.001\n",
       "p_lat           40.742\n",
       "d_lng         -73.9477\n",
       "Name: 2, dtype: object"
      ]
     },
     "execution_count": 41,
     "metadata": {},
     "output_type": "execute_result"
    }
   ],
   "source": [
    "taxi_df.iloc[2].head()"
   ]
  },
  {
   "cell_type": "code",
   "execution_count": 24,
   "metadata": {},
   "outputs": [
    {
     "data": {
      "text/plain": [
       "(686750, 7)"
      ]
     },
     "execution_count": 24,
     "metadata": {},
     "output_type": "execute_result"
    }
   ],
   "source": [
    "# p_lng is idx2\n",
    "# ...\n",
    "# d_lat is idx5\n",
    "\n",
    "filtered_df = taxi_df\n",
    "\n",
    "for i in range(2, 6):\n",
    "    lower = np.percentile(taxi_df.iloc[:, i], 0.3)\n",
    "    upper = np.percentile(taxi_df.iloc[:, i], 99.7)\n",
    "    filtered_df = filtered_df[ (filtered_df.iloc[:, i] > lower) \\\n",
    "                         & (filtered_df.iloc[:, i] < upper) ]\n",
    "\n",
    "filtered_df.shape\n",
    "    "
   ]
  },
  {
   "cell_type": "code",
   "execution_count": 29,
   "metadata": {
    "scrolled": false
   },
   "outputs": [
    {
     "name": "stdout",
     "output_type": "stream",
     "text": [
      "p_lng\n",
      "True\n",
      "True\n",
      "filt min p_lng -74.01612091\n",
      "orig min p_lng -74.01612854\n",
      "filt max p_lng -73.77679443\n",
      "orig max p_lng -73.7767868\n",
      "p_lat\n",
      "True\n",
      "True\n",
      "filt min p_lat 40.64365005\n",
      "orig min p_lat 40.64364624\n",
      "filt max p_lat 40.82314301\n",
      "orig max p_lat 40.8231481078\n",
      "d_lng\n",
      "True\n",
      "True\n",
      "filt min d_lng -74.03305054\n",
      "orig min d_lng -74.0331471945\n",
      "filt max d_lng -73.77869415\n",
      "orig max d_lng -73.7786788366\n",
      "d_lat\n",
      "True\n",
      "True\n",
      "filt min d_lat 40.63060379\n",
      "orig min d_lat 40.6305961366\n",
      "filt max d_lat 40.86594009\n",
      "orig max d_lat 40.86598587\n"
     ]
    }
   ],
   "source": [
    "for col in short_cols[2:6]:\n",
    "    print(col)\n",
    "    print(np.percentile(filtered_df[col], 0) - np.percentile(taxi_df[col], 0.3) > 0)\n",
    "    print(np.percentile(taxi_df[col], 99.7) - np.percentile(filtered_df[col], 100) > 0)\n",
    "    print(\"filt min\", col, np.percentile(filtered_df[col], 0))\n",
    "    print(\"orig min\", col, np.percentile(taxi_df[col], 0.3))\n",
    "    print(\"filt max\", col, np.percentile(filtered_df[col], 100))\n",
    "    print(\"orig max\", col, np.percentile(taxi_df[col], 99.7))\n",
    "    "
   ]
  },
  {
   "cell_type": "code",
   "execution_count": 32,
   "metadata": {},
   "outputs": [
    {
     "data": {
      "text/plain": [
       "(686750, 7)"
      ]
     },
     "execution_count": 32,
     "metadata": {},
     "output_type": "execute_result"
    }
   ],
   "source": [
    "filtered_df.shape"
   ]
  },
  {
   "cell_type": "code",
   "execution_count": 34,
   "metadata": {
    "collapsed": true
   },
   "outputs": [],
   "source": [
    "filtered_df.to_csv('../_data/train_03_997.csv')"
   ]
  },
  {
   "cell_type": "code",
   "execution_count": 38,
   "metadata": {},
   "outputs": [
    {
     "data": {
      "text/html": [
       "<div>\n",
       "<style>\n",
       "    .dataframe thead tr:only-child th {\n",
       "        text-align: right;\n",
       "    }\n",
       "\n",
       "    .dataframe thead th {\n",
       "        text-align: left;\n",
       "    }\n",
       "\n",
       "    .dataframe tbody tr th {\n",
       "        vertical-align: top;\n",
       "    }\n",
       "</style>\n",
       "<table border=\"1\" class=\"dataframe\">\n",
       "  <thead>\n",
       "    <tr style=\"text-align: right;\">\n",
       "      <th></th>\n",
       "      <th>Unnamed: 0</th>\n",
       "      <th>p_dt</th>\n",
       "      <th>pas</th>\n",
       "      <th>p_lng</th>\n",
       "      <th>p_lat</th>\n",
       "      <th>d_lng</th>\n",
       "      <th>d_lat</th>\n",
       "      <th>dur</th>\n",
       "    </tr>\n",
       "  </thead>\n",
       "  <tbody>\n",
       "    <tr>\n",
       "      <th>0</th>\n",
       "      <td>0</td>\n",
       "      <td>2016-04-30 23:59:00</td>\n",
       "      <td>1</td>\n",
       "      <td>-73.987793</td>\n",
       "      <td>40.724792</td>\n",
       "      <td>-73.975616</td>\n",
       "      <td>40.656445</td>\n",
       "      <td>1454</td>\n",
       "    </tr>\n",
       "    <tr>\n",
       "      <th>1</th>\n",
       "      <td>1</td>\n",
       "      <td>2016-04-30 23:59:00</td>\n",
       "      <td>1</td>\n",
       "      <td>-73.957596</td>\n",
       "      <td>40.717770</td>\n",
       "      <td>-73.951424</td>\n",
       "      <td>40.775230</td>\n",
       "      <td>1409</td>\n",
       "    </tr>\n",
       "    <tr>\n",
       "      <th>2</th>\n",
       "      <td>2</td>\n",
       "      <td>2016-04-30 23:59:00</td>\n",
       "      <td>2</td>\n",
       "      <td>-74.000954</td>\n",
       "      <td>40.742031</td>\n",
       "      <td>-73.947708</td>\n",
       "      <td>40.782200</td>\n",
       "      <td>1081</td>\n",
       "    </tr>\n",
       "    <tr>\n",
       "      <th>3</th>\n",
       "      <td>3</td>\n",
       "      <td>2016-04-30 23:58:00</td>\n",
       "      <td>1</td>\n",
       "      <td>-73.985733</td>\n",
       "      <td>40.738258</td>\n",
       "      <td>-73.993179</td>\n",
       "      <td>40.754890</td>\n",
       "      <td>800</td>\n",
       "    </tr>\n",
       "    <tr>\n",
       "      <th>4</th>\n",
       "      <td>4</td>\n",
       "      <td>2016-04-30 23:58:00</td>\n",
       "      <td>1</td>\n",
       "      <td>-74.006615</td>\n",
       "      <td>40.740650</td>\n",
       "      <td>-73.985619</td>\n",
       "      <td>40.723362</td>\n",
       "      <td>1151</td>\n",
       "    </tr>\n",
       "  </tbody>\n",
       "</table>\n",
       "</div>"
      ],
      "text/plain": [
       "   Unnamed: 0                p_dt  pas      p_lng      p_lat      d_lng  \\\n",
       "0           0 2016-04-30 23:59:00    1 -73.987793  40.724792 -73.975616   \n",
       "1           1 2016-04-30 23:59:00    1 -73.957596  40.717770 -73.951424   \n",
       "2           2 2016-04-30 23:59:00    2 -74.000954  40.742031 -73.947708   \n",
       "3           3 2016-04-30 23:58:00    1 -73.985733  40.738258 -73.993179   \n",
       "4           4 2016-04-30 23:58:00    1 -74.006615  40.740650 -73.985619   \n",
       "\n",
       "       d_lat   dur  \n",
       "0  40.656445  1454  \n",
       "1  40.775230  1409  \n",
       "2  40.782200  1081  \n",
       "3  40.754890   800  \n",
       "4  40.723362  1151  "
      ]
     },
     "execution_count": 38,
     "metadata": {},
     "output_type": "execute_result"
    }
   ],
   "source": [
    "filt_test = pd.read_csv('../_data/train_03_997.csv',\\\n",
    "                        infer_datetime_format=True, \\\n",
    "                        parse_dates=['p_dt'])\n",
    "\n",
    "filt_test.head()"
   ]
  },
  {
   "cell_type": "code",
   "execution_count": 42,
   "metadata": {},
   "outputs": [],
   "source": [
    "del filt_test['Unnamed: 0']"
   ]
  },
  {
   "cell_type": "code",
   "execution_count": 46,
   "metadata": {},
   "outputs": [
    {
     "data": {
      "text/html": [
       "<div>\n",
       "<style>\n",
       "    .dataframe thead tr:only-child th {\n",
       "        text-align: right;\n",
       "    }\n",
       "\n",
       "    .dataframe thead th {\n",
       "        text-align: left;\n",
       "    }\n",
       "\n",
       "    .dataframe tbody tr th {\n",
       "        vertical-align: top;\n",
       "    }\n",
       "</style>\n",
       "<table border=\"1\" class=\"dataframe\">\n",
       "  <thead>\n",
       "    <tr style=\"text-align: right;\">\n",
       "      <th></th>\n",
       "      <th>p_dt</th>\n",
       "      <th>pas</th>\n",
       "      <th>p_lng</th>\n",
       "      <th>p_lat</th>\n",
       "      <th>d_lng</th>\n",
       "      <th>d_lat</th>\n",
       "      <th>dur</th>\n",
       "    </tr>\n",
       "  </thead>\n",
       "  <tbody>\n",
       "    <tr>\n",
       "      <th>0</th>\n",
       "      <td>2016-04-30 23:59:00</td>\n",
       "      <td>1</td>\n",
       "      <td>-73.987793</td>\n",
       "      <td>40.724792</td>\n",
       "      <td>-73.975616</td>\n",
       "      <td>40.656445</td>\n",
       "      <td>1454</td>\n",
       "    </tr>\n",
       "    <tr>\n",
       "      <th>1</th>\n",
       "      <td>2016-04-30 23:59:00</td>\n",
       "      <td>1</td>\n",
       "      <td>-73.957596</td>\n",
       "      <td>40.717770</td>\n",
       "      <td>-73.951424</td>\n",
       "      <td>40.775230</td>\n",
       "      <td>1409</td>\n",
       "    </tr>\n",
       "    <tr>\n",
       "      <th>2</th>\n",
       "      <td>2016-04-30 23:59:00</td>\n",
       "      <td>2</td>\n",
       "      <td>-74.000954</td>\n",
       "      <td>40.742031</td>\n",
       "      <td>-73.947708</td>\n",
       "      <td>40.782200</td>\n",
       "      <td>1081</td>\n",
       "    </tr>\n",
       "    <tr>\n",
       "      <th>3</th>\n",
       "      <td>2016-04-30 23:58:00</td>\n",
       "      <td>1</td>\n",
       "      <td>-73.985733</td>\n",
       "      <td>40.738258</td>\n",
       "      <td>-73.993179</td>\n",
       "      <td>40.754890</td>\n",
       "      <td>800</td>\n",
       "    </tr>\n",
       "    <tr>\n",
       "      <th>4</th>\n",
       "      <td>2016-04-30 23:58:00</td>\n",
       "      <td>1</td>\n",
       "      <td>-74.006615</td>\n",
       "      <td>40.740650</td>\n",
       "      <td>-73.985619</td>\n",
       "      <td>40.723362</td>\n",
       "      <td>1151</td>\n",
       "    </tr>\n",
       "  </tbody>\n",
       "</table>\n",
       "</div>"
      ],
      "text/plain": [
       "                 p_dt  pas      p_lng      p_lat      d_lng      d_lat   dur\n",
       "0 2016-04-30 23:59:00    1 -73.987793  40.724792 -73.975616  40.656445  1454\n",
       "1 2016-04-30 23:59:00    1 -73.957596  40.717770 -73.951424  40.775230  1409\n",
       "2 2016-04-30 23:59:00    2 -74.000954  40.742031 -73.947708  40.782200  1081\n",
       "3 2016-04-30 23:58:00    1 -73.985733  40.738258 -73.993179  40.754890   800\n",
       "4 2016-04-30 23:58:00    1 -74.006615  40.740650 -73.985619  40.723362  1151"
      ]
     },
     "execution_count": 46,
     "metadata": {},
     "output_type": "execute_result"
    }
   ],
   "source": [
    "filt_test.head()"
   ]
  },
  {
   "cell_type": "code",
   "execution_count": 47,
   "metadata": {
    "collapsed": true
   },
   "outputs": [],
   "source": [
    "filt_test.to_csv('../_data/train_03_997_dates.csv', index=False)"
   ]
  },
  {
   "cell_type": "code",
   "execution_count": 50,
   "metadata": {},
   "outputs": [
    {
     "data": {
      "text/html": [
       "<div>\n",
       "<style>\n",
       "    .dataframe thead tr:only-child th {\n",
       "        text-align: right;\n",
       "    }\n",
       "\n",
       "    .dataframe thead th {\n",
       "        text-align: left;\n",
       "    }\n",
       "\n",
       "    .dataframe tbody tr th {\n",
       "        vertical-align: top;\n",
       "    }\n",
       "</style>\n",
       "<table border=\"1\" class=\"dataframe\">\n",
       "  <thead>\n",
       "    <tr style=\"text-align: right;\">\n",
       "      <th></th>\n",
       "      <th>p_dt</th>\n",
       "      <th>pas</th>\n",
       "      <th>p_lng</th>\n",
       "      <th>p_lat</th>\n",
       "      <th>d_lng</th>\n",
       "      <th>d_lat</th>\n",
       "      <th>dur</th>\n",
       "    </tr>\n",
       "  </thead>\n",
       "  <tbody>\n",
       "    <tr>\n",
       "      <th>0</th>\n",
       "      <td>2016-04-30 23:59:00</td>\n",
       "      <td>1</td>\n",
       "      <td>-73.987793</td>\n",
       "      <td>40.724792</td>\n",
       "      <td>-73.975616</td>\n",
       "      <td>40.656445</td>\n",
       "      <td>1454</td>\n",
       "    </tr>\n",
       "    <tr>\n",
       "      <th>1</th>\n",
       "      <td>2016-04-30 23:59:00</td>\n",
       "      <td>1</td>\n",
       "      <td>-73.957596</td>\n",
       "      <td>40.717770</td>\n",
       "      <td>-73.951424</td>\n",
       "      <td>40.775230</td>\n",
       "      <td>1409</td>\n",
       "    </tr>\n",
       "    <tr>\n",
       "      <th>2</th>\n",
       "      <td>2016-04-30 23:59:00</td>\n",
       "      <td>2</td>\n",
       "      <td>-74.000954</td>\n",
       "      <td>40.742031</td>\n",
       "      <td>-73.947708</td>\n",
       "      <td>40.782200</td>\n",
       "      <td>1081</td>\n",
       "    </tr>\n",
       "    <tr>\n",
       "      <th>3</th>\n",
       "      <td>2016-04-30 23:58:00</td>\n",
       "      <td>1</td>\n",
       "      <td>-73.985733</td>\n",
       "      <td>40.738258</td>\n",
       "      <td>-73.993179</td>\n",
       "      <td>40.754890</td>\n",
       "      <td>800</td>\n",
       "    </tr>\n",
       "    <tr>\n",
       "      <th>4</th>\n",
       "      <td>2016-04-30 23:58:00</td>\n",
       "      <td>1</td>\n",
       "      <td>-74.006615</td>\n",
       "      <td>40.740650</td>\n",
       "      <td>-73.985619</td>\n",
       "      <td>40.723362</td>\n",
       "      <td>1151</td>\n",
       "    </tr>\n",
       "  </tbody>\n",
       "</table>\n",
       "</div>"
      ],
      "text/plain": [
       "                  p_dt  pas      p_lng      p_lat      d_lng      d_lat   dur\n",
       "0  2016-04-30 23:59:00    1 -73.987793  40.724792 -73.975616  40.656445  1454\n",
       "1  2016-04-30 23:59:00    1 -73.957596  40.717770 -73.951424  40.775230  1409\n",
       "2  2016-04-30 23:59:00    2 -74.000954  40.742031 -73.947708  40.782200  1081\n",
       "3  2016-04-30 23:58:00    1 -73.985733  40.738258 -73.993179  40.754890   800\n",
       "4  2016-04-30 23:58:00    1 -74.006615  40.740650 -73.985619  40.723362  1151"
      ]
     },
     "execution_count": 50,
     "metadata": {},
     "output_type": "execute_result"
    }
   ],
   "source": [
    "new_filt = pd.read_csv('../_data/train_03_997_dates.csv')\n",
    "\n",
    "new_filt.head()"
   ]
  },
  {
   "cell_type": "code",
   "execution_count": 56,
   "metadata": {
    "scrolled": false
   },
   "outputs": [],
   "source": [
    "new_filt['p_dt'] = pd.to_datetime(new_filt['p_dt'])"
   ]
  },
  {
   "cell_type": "code",
   "execution_count": 58,
   "metadata": {
    "collapsed": true
   },
   "outputs": [],
   "source": [
    "filtered_df['p_dt'] = pd.to_datetime(filtered_df['p_dt'])"
   ]
  },
  {
   "cell_type": "code",
   "execution_count": 62,
   "metadata": {
    "scrolled": true
   },
   "outputs": [
    {
     "data": {
      "text/plain": [
       "0    5\n",
       "1    5\n",
       "2    5\n",
       "3    5\n",
       "4    5\n",
       "Name: p_dt, dtype: int64"
      ]
     },
     "execution_count": 62,
     "metadata": {},
     "output_type": "execute_result"
    }
   ],
   "source": [
    "new_filt['p_dt'].dt.dayofweek.head()"
   ]
  },
  {
   "cell_type": "code",
   "execution_count": null,
   "metadata": {
    "collapsed": true
   },
   "outputs": [],
   "source": []
  }
 ],
 "metadata": {
  "kernelspec": {
   "display_name": "Python 3",
   "language": "python",
   "name": "python3"
  },
  "language_info": {
   "codemirror_mode": {
    "name": "ipython",
    "version": 3
   },
   "file_extension": ".py",
   "mimetype": "text/x-python",
   "name": "python",
   "nbconvert_exporter": "python",
   "pygments_lexer": "ipython3",
   "version": "3.6.1"
  }
 },
 "nbformat": 4,
 "nbformat_minor": 2
}
