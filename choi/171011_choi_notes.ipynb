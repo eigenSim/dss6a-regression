{
 "cells": [
  {
   "cell_type": "code",
   "execution_count": 16,
   "metadata": {
    "collapsed": true
   },
   "outputs": [],
   "source": [
    "import numpy as np\n",
    "import scipy as sp\n",
    "import pandas as pd\n",
    "import statsmodels.api as sm\n",
    "import statsmodels.formula.api as smf\n",
    "import statsmodels.stats.api as sms\n",
    "import sklearn as sk\n",
    "\n",
    "import matplotlib as mpl\n",
    "import matplotlib.pylab as plt\n",
    "from mpl_toolkits.mplot3d import Axes3D\n",
    "\n",
    "import seaborn as sns\n",
    "sns.set()\n",
    "sns.set_style(\"whitegrid\")\n",
    "sns.set_color_codes()"
   ]
  },
  {
   "cell_type": "code",
   "execution_count": 28,
   "metadata": {
    "collapsed": true
   },
   "outputs": [],
   "source": [
    "# 경로 변수 (고정)\n",
    "\n",
    "dataLoc = '../_data/'\n",
    "trainfile = 'train_03_997.csv'\n",
    "old_trainfile = 'train.csv'\n",
    "testfile = 'test_clean.csv'\n",
    "old_testfile = 'test.csv'"
   ]
  },
  {
   "cell_type": "code",
   "execution_count": 30,
   "metadata": {
    "scrolled": false
   },
   "outputs": [
    {
     "data": {
      "text/html": [
       "<div>\n",
       "<style>\n",
       "    .dataframe thead tr:only-child th {\n",
       "        text-align: right;\n",
       "    }\n",
       "\n",
       "    .dataframe thead th {\n",
       "        text-align: left;\n",
       "    }\n",
       "\n",
       "    .dataframe tbody tr th {\n",
       "        vertical-align: top;\n",
       "    }\n",
       "</style>\n",
       "<table border=\"1\" class=\"dataframe\">\n",
       "  <thead>\n",
       "    <tr style=\"text-align: right;\">\n",
       "      <th></th>\n",
       "      <th>p_dt</th>\n",
       "      <th>pas</th>\n",
       "      <th>p_lng</th>\n",
       "      <th>p_lat</th>\n",
       "      <th>d_lng</th>\n",
       "      <th>d_lat</th>\n",
       "      <th>dur</th>\n",
       "    </tr>\n",
       "  </thead>\n",
       "  <tbody>\n",
       "    <tr>\n",
       "      <th>0</th>\n",
       "      <td>2016-04-30 23:59:00</td>\n",
       "      <td>1</td>\n",
       "      <td>-73.987793</td>\n",
       "      <td>40.724792</td>\n",
       "      <td>-73.975616</td>\n",
       "      <td>40.656445</td>\n",
       "      <td>1454</td>\n",
       "    </tr>\n",
       "    <tr>\n",
       "      <th>1</th>\n",
       "      <td>2016-04-30 23:59:00</td>\n",
       "      <td>1</td>\n",
       "      <td>-73.957596</td>\n",
       "      <td>40.717770</td>\n",
       "      <td>-73.951424</td>\n",
       "      <td>40.775230</td>\n",
       "      <td>1409</td>\n",
       "    </tr>\n",
       "    <tr>\n",
       "      <th>2</th>\n",
       "      <td>2016-04-30 23:59:00</td>\n",
       "      <td>2</td>\n",
       "      <td>-74.000954</td>\n",
       "      <td>40.742031</td>\n",
       "      <td>-73.947708</td>\n",
       "      <td>40.782200</td>\n",
       "      <td>1081</td>\n",
       "    </tr>\n",
       "    <tr>\n",
       "      <th>3</th>\n",
       "      <td>2016-04-30 23:58:00</td>\n",
       "      <td>1</td>\n",
       "      <td>-73.985733</td>\n",
       "      <td>40.738258</td>\n",
       "      <td>-73.993179</td>\n",
       "      <td>40.754890</td>\n",
       "      <td>800</td>\n",
       "    </tr>\n",
       "    <tr>\n",
       "      <th>4</th>\n",
       "      <td>2016-04-30 23:58:00</td>\n",
       "      <td>1</td>\n",
       "      <td>-74.006615</td>\n",
       "      <td>40.740650</td>\n",
       "      <td>-73.985619</td>\n",
       "      <td>40.723362</td>\n",
       "      <td>1151</td>\n",
       "    </tr>\n",
       "  </tbody>\n",
       "</table>\n",
       "</div>"
      ],
      "text/plain": [
       "                 p_dt  pas      p_lng      p_lat      d_lng      d_lat   dur\n",
       "0 2016-04-30 23:59:00    1 -73.987793  40.724792 -73.975616  40.656445  1454\n",
       "1 2016-04-30 23:59:00    1 -73.957596  40.717770 -73.951424  40.775230  1409\n",
       "2 2016-04-30 23:59:00    2 -74.000954  40.742031 -73.947708  40.782200  1081\n",
       "3 2016-04-30 23:58:00    1 -73.985733  40.738258 -73.993179  40.754890   800\n",
       "4 2016-04-30 23:58:00    1 -74.006615  40.740650 -73.985619  40.723362  1151"
      ]
     },
     "execution_count": 30,
     "metadata": {},
     "output_type": "execute_result"
    }
   ],
   "source": [
    "# train_03_997.csv\n",
    "taxi_df = pd.read_csv(dataLoc + trainfile)\n",
    "taxi_df['p_dt'] = pd.to_datetime(taxi_df['p_dt'])\n",
    "taxi_df.head()"
   ]
  },
  {
   "cell_type": "code",
   "execution_count": 31,
   "metadata": {},
   "outputs": [
    {
     "data": {
      "text/html": [
       "<div>\n",
       "<style>\n",
       "    .dataframe thead tr:only-child th {\n",
       "        text-align: right;\n",
       "    }\n",
       "\n",
       "    .dataframe thead th {\n",
       "        text-align: left;\n",
       "    }\n",
       "\n",
       "    .dataframe tbody tr th {\n",
       "        vertical-align: top;\n",
       "    }\n",
       "</style>\n",
       "<table border=\"1\" class=\"dataframe\">\n",
       "  <thead>\n",
       "    <tr style=\"text-align: right;\">\n",
       "      <th></th>\n",
       "      <th>p_dt</th>\n",
       "      <th>pas</th>\n",
       "      <th>p_lng</th>\n",
       "      <th>p_lat</th>\n",
       "      <th>d_lng</th>\n",
       "      <th>d_lat</th>\n",
       "    </tr>\n",
       "  </thead>\n",
       "  <tbody>\n",
       "    <tr>\n",
       "      <th>0</th>\n",
       "      <td>2016-06-30 23:59:00</td>\n",
       "      <td>5</td>\n",
       "      <td>-73.998291</td>\n",
       "      <td>40.722618</td>\n",
       "      <td>-73.971779</td>\n",
       "      <td>40.762470</td>\n",
       "    </tr>\n",
       "    <tr>\n",
       "      <th>1</th>\n",
       "      <td>2016-06-30 23:59:00</td>\n",
       "      <td>2</td>\n",
       "      <td>-73.955109</td>\n",
       "      <td>40.689564</td>\n",
       "      <td>-73.978203</td>\n",
       "      <td>40.685802</td>\n",
       "    </tr>\n",
       "    <tr>\n",
       "      <th>2</th>\n",
       "      <td>2016-06-30 23:59:00</td>\n",
       "      <td>1</td>\n",
       "      <td>-73.978416</td>\n",
       "      <td>40.791576</td>\n",
       "      <td>-73.973160</td>\n",
       "      <td>40.675968</td>\n",
       "    </tr>\n",
       "    <tr>\n",
       "      <th>3</th>\n",
       "      <td>2016-06-30 23:59:00</td>\n",
       "      <td>2</td>\n",
       "      <td>-73.873093</td>\n",
       "      <td>40.774097</td>\n",
       "      <td>-73.926704</td>\n",
       "      <td>40.856739</td>\n",
       "    </tr>\n",
       "    <tr>\n",
       "      <th>4</th>\n",
       "      <td>2016-06-30 23:58:00</td>\n",
       "      <td>1</td>\n",
       "      <td>-73.979416</td>\n",
       "      <td>40.755211</td>\n",
       "      <td>-74.003548</td>\n",
       "      <td>40.738224</td>\n",
       "    </tr>\n",
       "  </tbody>\n",
       "</table>\n",
       "</div>"
      ],
      "text/plain": [
       "                 p_dt  pas      p_lng      p_lat      d_lng      d_lat\n",
       "0 2016-06-30 23:59:00    5 -73.998291  40.722618 -73.971779  40.762470\n",
       "1 2016-06-30 23:59:00    2 -73.955109  40.689564 -73.978203  40.685802\n",
       "2 2016-06-30 23:59:00    1 -73.978416  40.791576 -73.973160  40.675968\n",
       "3 2016-06-30 23:59:00    2 -73.873093  40.774097 -73.926704  40.856739\n",
       "4 2016-06-30 23:58:00    1 -73.979416  40.755211 -74.003548  40.738224"
      ]
     },
     "execution_count": 31,
     "metadata": {},
     "output_type": "execute_result"
    }
   ],
   "source": [
    "# test_clean.csv\n",
    "test_df = pd.read_csv(dataLoc + testfile)\n",
    "test_df['p_dt'] = pd.to_datetime(test_df['p_dt'])\n",
    "test_df.head()"
   ]
  },
  {
   "cell_type": "code",
   "execution_count": 22,
   "metadata": {},
   "outputs": [
    {
     "data": {
      "text/plain": [
       "51.881084440000002"
      ]
     },
     "execution_count": 22,
     "metadata": {},
     "output_type": "execute_result"
    }
   ],
   "source": [
    "max(test_df['p_lat'])"
   ]
  },
  {
   "cell_type": "code",
   "execution_count": 23,
   "metadata": {
    "collapsed": true
   },
   "outputs": [],
   "source": [
    "test_df.to_csv('../_data/test_clean.csv', index=False)"
   ]
  },
  {
   "cell_type": "code",
   "execution_count": 25,
   "metadata": {},
   "outputs": [
    {
     "data": {
      "text/html": [
       "<div>\n",
       "<style>\n",
       "    .dataframe thead tr:only-child th {\n",
       "        text-align: right;\n",
       "    }\n",
       "\n",
       "    .dataframe thead th {\n",
       "        text-align: left;\n",
       "    }\n",
       "\n",
       "    .dataframe tbody tr th {\n",
       "        vertical-align: top;\n",
       "    }\n",
       "</style>\n",
       "<table border=\"1\" class=\"dataframe\">\n",
       "  <thead>\n",
       "    <tr style=\"text-align: right;\">\n",
       "      <th></th>\n",
       "      <th>p_dt</th>\n",
       "      <th>pas</th>\n",
       "      <th>p_lng</th>\n",
       "      <th>p_lat</th>\n",
       "      <th>d_lng</th>\n",
       "      <th>d_lat</th>\n",
       "    </tr>\n",
       "  </thead>\n",
       "  <tbody>\n",
       "    <tr>\n",
       "      <th>0</th>\n",
       "      <td>2016-06-30 23:59:00</td>\n",
       "      <td>5</td>\n",
       "      <td>-73.998291</td>\n",
       "      <td>40.722618</td>\n",
       "      <td>-73.971779</td>\n",
       "      <td>40.762470</td>\n",
       "    </tr>\n",
       "    <tr>\n",
       "      <th>1</th>\n",
       "      <td>2016-06-30 23:59:00</td>\n",
       "      <td>2</td>\n",
       "      <td>-73.955109</td>\n",
       "      <td>40.689564</td>\n",
       "      <td>-73.978203</td>\n",
       "      <td>40.685802</td>\n",
       "    </tr>\n",
       "    <tr>\n",
       "      <th>2</th>\n",
       "      <td>2016-06-30 23:59:00</td>\n",
       "      <td>1</td>\n",
       "      <td>-73.978416</td>\n",
       "      <td>40.791576</td>\n",
       "      <td>-73.973160</td>\n",
       "      <td>40.675968</td>\n",
       "    </tr>\n",
       "    <tr>\n",
       "      <th>3</th>\n",
       "      <td>2016-06-30 23:59:00</td>\n",
       "      <td>2</td>\n",
       "      <td>-73.873093</td>\n",
       "      <td>40.774097</td>\n",
       "      <td>-73.926704</td>\n",
       "      <td>40.856739</td>\n",
       "    </tr>\n",
       "    <tr>\n",
       "      <th>4</th>\n",
       "      <td>2016-06-30 23:58:00</td>\n",
       "      <td>1</td>\n",
       "      <td>-73.979416</td>\n",
       "      <td>40.755211</td>\n",
       "      <td>-74.003548</td>\n",
       "      <td>40.738224</td>\n",
       "    </tr>\n",
       "  </tbody>\n",
       "</table>\n",
       "</div>"
      ],
      "text/plain": [
       "                  p_dt  pas      p_lng      p_lat      d_lng      d_lat\n",
       "0  2016-06-30 23:59:00    5 -73.998291  40.722618 -73.971779  40.762470\n",
       "1  2016-06-30 23:59:00    2 -73.955109  40.689564 -73.978203  40.685802\n",
       "2  2016-06-30 23:59:00    1 -73.978416  40.791576 -73.973160  40.675968\n",
       "3  2016-06-30 23:59:00    2 -73.873093  40.774097 -73.926704  40.856739\n",
       "4  2016-06-30 23:58:00    1 -73.979416  40.755211 -74.003548  40.738224"
      ]
     },
     "execution_count": 25,
     "metadata": {},
     "output_type": "execute_result"
    }
   ],
   "source": [
    "test_df2 = pd.read_csv('../_data/test_clean.csv')\n",
    "test_df2.head()"
   ]
  },
  {
   "cell_type": "code",
   "execution_count": 5,
   "metadata": {},
   "outputs": [
    {
     "data": {
      "text/plain": [
       "0   2016-04-30 23:59:00\n",
       "1   2016-04-30 23:59:00\n",
       "2   2016-04-30 23:59:00\n",
       "3   2016-04-30 23:58:00\n",
       "4   2016-04-30 23:58:00\n",
       "Name: p_dt, dtype: datetime64[ns]"
      ]
     },
     "execution_count": 5,
     "metadata": {},
     "output_type": "execute_result"
    }
   ],
   "source": [
    "taxi_df['p_dt'].head()"
   ]
  },
  {
   "cell_type": "code",
   "execution_count": 7,
   "metadata": {},
   "outputs": [
    {
     "data": {
      "text/plain": [
       "0    23\n",
       "1    23\n",
       "2    23\n",
       "3    23\n",
       "4    23\n",
       "Name: p_dt, dtype: int64"
      ]
     },
     "execution_count": 7,
     "metadata": {},
     "output_type": "execute_result"
    }
   ],
   "source": [
    "taxi_df['p_dt'].dt.hour.head()"
   ]
  },
  {
   "cell_type": "code",
   "execution_count": 12,
   "metadata": {},
   "outputs": [
    {
     "data": {
      "text/plain": [
       "0    30\n",
       "1    30\n",
       "2    30\n",
       "3    30\n",
       "4    30\n",
       "Name: p_dt, dtype: int64"
      ]
     },
     "execution_count": 12,
     "metadata": {},
     "output_type": "execute_result"
    }
   ],
   "source": [
    "taxi_df['p_dt'].dt.day.head()"
   ]
  },
  {
   "cell_type": "code",
   "execution_count": 14,
   "metadata": {},
   "outputs": [
    {
     "data": {
      "text/html": [
       "<div>\n",
       "<style>\n",
       "    .dataframe thead tr:only-child th {\n",
       "        text-align: right;\n",
       "    }\n",
       "\n",
       "    .dataframe thead th {\n",
       "        text-align: left;\n",
       "    }\n",
       "\n",
       "    .dataframe tbody tr th {\n",
       "        vertical-align: top;\n",
       "    }\n",
       "</style>\n",
       "<table border=\"1\" class=\"dataframe\">\n",
       "  <thead>\n",
       "    <tr style=\"text-align: right;\">\n",
       "      <th></th>\n",
       "      <th>p_dt</th>\n",
       "      <th>hr</th>\n",
       "      <th>pas</th>\n",
       "      <th>p_lng</th>\n",
       "      <th>p_lat</th>\n",
       "      <th>d_lng</th>\n",
       "      <th>d_lat</th>\n",
       "      <th>dur</th>\n",
       "    </tr>\n",
       "  </thead>\n",
       "  <tbody>\n",
       "    <tr>\n",
       "      <th>0</th>\n",
       "      <td>2016-04-30 23:59:00</td>\n",
       "      <td>23</td>\n",
       "      <td>1</td>\n",
       "      <td>-73.987793</td>\n",
       "      <td>40.724792</td>\n",
       "      <td>-73.975616</td>\n",
       "      <td>40.656445</td>\n",
       "      <td>1454</td>\n",
       "    </tr>\n",
       "    <tr>\n",
       "      <th>1</th>\n",
       "      <td>2016-04-30 23:59:00</td>\n",
       "      <td>23</td>\n",
       "      <td>1</td>\n",
       "      <td>-73.957596</td>\n",
       "      <td>40.717770</td>\n",
       "      <td>-73.951424</td>\n",
       "      <td>40.775230</td>\n",
       "      <td>1409</td>\n",
       "    </tr>\n",
       "    <tr>\n",
       "      <th>2</th>\n",
       "      <td>2016-04-30 23:59:00</td>\n",
       "      <td>23</td>\n",
       "      <td>2</td>\n",
       "      <td>-74.000954</td>\n",
       "      <td>40.742031</td>\n",
       "      <td>-73.947708</td>\n",
       "      <td>40.782200</td>\n",
       "      <td>1081</td>\n",
       "    </tr>\n",
       "    <tr>\n",
       "      <th>3</th>\n",
       "      <td>2016-04-30 23:58:00</td>\n",
       "      <td>23</td>\n",
       "      <td>1</td>\n",
       "      <td>-73.985733</td>\n",
       "      <td>40.738258</td>\n",
       "      <td>-73.993179</td>\n",
       "      <td>40.754890</td>\n",
       "      <td>800</td>\n",
       "    </tr>\n",
       "    <tr>\n",
       "      <th>4</th>\n",
       "      <td>2016-04-30 23:58:00</td>\n",
       "      <td>23</td>\n",
       "      <td>1</td>\n",
       "      <td>-74.006615</td>\n",
       "      <td>40.740650</td>\n",
       "      <td>-73.985619</td>\n",
       "      <td>40.723362</td>\n",
       "      <td>1151</td>\n",
       "    </tr>\n",
       "  </tbody>\n",
       "</table>\n",
       "</div>"
      ],
      "text/plain": [
       "                 p_dt  hr  pas      p_lng      p_lat      d_lng      d_lat  \\\n",
       "0 2016-04-30 23:59:00  23    1 -73.987793  40.724792 -73.975616  40.656445   \n",
       "1 2016-04-30 23:59:00  23    1 -73.957596  40.717770 -73.951424  40.775230   \n",
       "2 2016-04-30 23:59:00  23    2 -74.000954  40.742031 -73.947708  40.782200   \n",
       "3 2016-04-30 23:58:00  23    1 -73.985733  40.738258 -73.993179  40.754890   \n",
       "4 2016-04-30 23:58:00  23    1 -74.006615  40.740650 -73.985619  40.723362   \n",
       "\n",
       "    dur  \n",
       "0  1454  \n",
       "1  1409  \n",
       "2  1081  \n",
       "3   800  \n",
       "4  1151  "
      ]
     },
     "execution_count": 14,
     "metadata": {},
     "output_type": "execute_result"
    }
   ],
   "source": [
    "taxi_df.insert(loc=1, column='hr', value=taxi_df['p_dt'].dt.hour)\n",
    "\n",
    "\n",
    "taxi_df.head()"
   ]
  },
  {
   "cell_type": "code",
   "execution_count": 16,
   "metadata": {},
   "outputs": [
    {
     "data": {
      "text/plain": [
       "0    121\n",
       "1    121\n",
       "2    121\n",
       "3    121\n",
       "4    121\n",
       "Name: p_dt, dtype: int64"
      ]
     },
     "execution_count": 16,
     "metadata": {},
     "output_type": "execute_result"
    }
   ],
   "source": [
    "taxi_df['p_dt'].dt.dayofyear.head()"
   ]
  }
 ],
 "metadata": {
  "kernelspec": {
   "display_name": "Python 3",
   "language": "python",
   "name": "python3"
  },
  "language_info": {
   "codemirror_mode": {
    "name": "ipython",
    "version": 3
   },
   "file_extension": ".py",
   "mimetype": "text/x-python",
   "name": "python",
   "nbconvert_exporter": "python",
   "pygments_lexer": "ipython3",
   "version": "3.6.1"
  }
 },
 "nbformat": 4,
 "nbformat_minor": 2
}
