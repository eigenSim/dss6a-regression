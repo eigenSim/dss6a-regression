{
 "cells": [
  {
   "cell_type": "code",
   "execution_count": 1,
   "metadata": {
    "collapsed": true
   },
   "outputs": [],
   "source": [
    "import numpy as np\n",
    "import scipy as sp\n",
    "import pandas as pd\n",
    "import statsmodels.api as sm\n",
    "import statsmodels.formula.api as smf\n",
    "import statsmodels.stats.api as sms\n",
    "import sklearn as sk\n",
    "\n",
    "import matplotlib as mpl\n",
    "import matplotlib.pylab as plt\n",
    "from mpl_toolkits.mplot3d import Axes3D\n",
    "\n",
    "import seaborn as sns\n",
    "sns.set()\n",
    "sns.set_style(\"whitegrid\")\n",
    "sns.set_color_codes()"
   ]
  },
  {
   "cell_type": "code",
   "execution_count": 2,
   "metadata": {
    "collapsed": true
   },
   "outputs": [],
   "source": [
    "# 경로 변수 (고정)\n",
    "\n",
    "dataLoc = '../_data/'\n",
    "trainfile = 'train_03_997.csv'\n",
    "old_trainfile = 'train.csv'\n",
    "testfile = 'test_clean.csv'\n",
    "old_testfile = 'test.csv'\n",
    "train_171016 = '171016_dow_hr_pas_L2_dur_only.csv'\n"
   ]
  },
  {
   "cell_type": "code",
   "execution_count": 3,
   "metadata": {},
   "outputs": [
    {
     "data": {
      "text/html": [
       "<div>\n",
       "<style>\n",
       "    .dataframe thead tr:only-child th {\n",
       "        text-align: right;\n",
       "    }\n",
       "\n",
       "    .dataframe thead th {\n",
       "        text-align: left;\n",
       "    }\n",
       "\n",
       "    .dataframe tbody tr th {\n",
       "        vertical-align: top;\n",
       "    }\n",
       "</style>\n",
       "<table border=\"1\" class=\"dataframe\">\n",
       "  <thead>\n",
       "    <tr style=\"text-align: right;\">\n",
       "      <th></th>\n",
       "      <th>p_dt</th>\n",
       "      <th>pas</th>\n",
       "      <th>p_lng</th>\n",
       "      <th>p_lat</th>\n",
       "      <th>d_lng</th>\n",
       "      <th>d_lat</th>\n",
       "    </tr>\n",
       "  </thead>\n",
       "  <tbody>\n",
       "    <tr>\n",
       "      <th>0</th>\n",
       "      <td>2016-06-30 23:59:00</td>\n",
       "      <td>5</td>\n",
       "      <td>-73.998291</td>\n",
       "      <td>40.722618</td>\n",
       "      <td>-73.971779</td>\n",
       "      <td>40.762470</td>\n",
       "    </tr>\n",
       "    <tr>\n",
       "      <th>1</th>\n",
       "      <td>2016-06-30 23:59:00</td>\n",
       "      <td>2</td>\n",
       "      <td>-73.955109</td>\n",
       "      <td>40.689564</td>\n",
       "      <td>-73.978203</td>\n",
       "      <td>40.685802</td>\n",
       "    </tr>\n",
       "    <tr>\n",
       "      <th>2</th>\n",
       "      <td>2016-06-30 23:59:00</td>\n",
       "      <td>1</td>\n",
       "      <td>-73.978416</td>\n",
       "      <td>40.791576</td>\n",
       "      <td>-73.973160</td>\n",
       "      <td>40.675968</td>\n",
       "    </tr>\n",
       "    <tr>\n",
       "      <th>3</th>\n",
       "      <td>2016-06-30 23:59:00</td>\n",
       "      <td>2</td>\n",
       "      <td>-73.873093</td>\n",
       "      <td>40.774097</td>\n",
       "      <td>-73.926704</td>\n",
       "      <td>40.856739</td>\n",
       "    </tr>\n",
       "    <tr>\n",
       "      <th>4</th>\n",
       "      <td>2016-06-30 23:58:00</td>\n",
       "      <td>1</td>\n",
       "      <td>-73.979416</td>\n",
       "      <td>40.755211</td>\n",
       "      <td>-74.003548</td>\n",
       "      <td>40.738224</td>\n",
       "    </tr>\n",
       "  </tbody>\n",
       "</table>\n",
       "</div>"
      ],
      "text/plain": [
       "                 p_dt  pas      p_lng      p_lat      d_lng      d_lat\n",
       "0 2016-06-30 23:59:00    5 -73.998291  40.722618 -73.971779  40.762470\n",
       "1 2016-06-30 23:59:00    2 -73.955109  40.689564 -73.978203  40.685802\n",
       "2 2016-06-30 23:59:00    1 -73.978416  40.791576 -73.973160  40.675968\n",
       "3 2016-06-30 23:59:00    2 -73.873093  40.774097 -73.926704  40.856739\n",
       "4 2016-06-30 23:58:00    1 -73.979416  40.755211 -74.003548  40.738224"
      ]
     },
     "execution_count": 3,
     "metadata": {},
     "output_type": "execute_result"
    }
   ],
   "source": [
    "# test_clean.csv\n",
    "test_df = pd.read_csv(dataLoc + testfile)\n",
    "test_df['p_dt'] = pd.to_datetime(test_df['p_dt'])\n",
    "test_df.head()"
   ]
  },
  {
   "cell_type": "code",
   "execution_count": 4,
   "metadata": {
    "scrolled": false
   },
   "outputs": [
    {
     "name": "stdout",
     "output_type": "stream",
     "text": [
      "6.0\n",
      "1.0\n",
      "-73.77669525\n",
      "-74.01722717\n",
      "40.846884983\n",
      "40.64147568\n",
      "-73.7373574816\n",
      "-74.1778045965\n",
      "40.8911770209\n",
      "40.60431671\n"
     ]
    }
   ],
   "source": [
    "for col in test_df.columns:\n",
    "    if col != 'p_dt':\n",
    "        print(np.percentile(test_df[col], 99.9))\n",
    "        print(np.percentile(test_df[col], 0.1))"
   ]
  },
  {
   "cell_type": "code",
   "execution_count": 36,
   "metadata": {},
   "outputs": [
    {
     "name": "stdout",
     "output_type": "stream",
     "text": [
      "39\n",
      "82\n",
      "44\n",
      "30\n",
      "64\n",
      "29\n",
      "85\n",
      "20\n"
     ]
    }
   ],
   "source": [
    "print(len(test_df['p_lng'][test_df['p_lng'] > -73.7]))\n",
    "print(len(test_df['p_lng'][test_df['p_lng'] < -74.1]))\n",
    "print(len(test_df['p_lat'][test_df['p_lat'] > 40.9]))\n",
    "print(len(test_df['p_lat'][test_df['p_lat'] < 40.6]))\n",
    "\n",
    "print(len(test_df['d_lng'][test_df['d_lng'] > -73.6]))\n",
    "print(len(test_df['d_lng'][test_df['d_lng'] < -74.3]))\n",
    "print(len(test_df['d_lat'][test_df['d_lat'] > 41.0]))\n",
    "print(len(test_df['d_lat'][test_df['d_lat'] < 40.55]))"
   ]
  }
 ],
 "metadata": {
  "kernelspec": {
   "display_name": "Python 3",
   "language": "python",
   "name": "python3"
  },
  "language_info": {
   "codemirror_mode": {
    "name": "ipython",
    "version": 3
   },
   "file_extension": ".py",
   "mimetype": "text/x-python",
   "name": "python",
   "nbconvert_exporter": "python",
   "pygments_lexer": "ipython3",
   "version": "3.6.2"
  }
 },
 "nbformat": 4,
 "nbformat_minor": 2
}
